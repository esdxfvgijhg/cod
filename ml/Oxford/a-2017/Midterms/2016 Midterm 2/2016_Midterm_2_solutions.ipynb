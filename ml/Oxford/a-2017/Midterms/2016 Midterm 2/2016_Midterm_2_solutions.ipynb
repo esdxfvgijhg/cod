{
 "cells": [
  {
   "cell_type": "markdown",
   "metadata": {},
   "source": [
    "# CS 109A/AC 209A/STAT 121A Data Science: 2016 Midterm 2 Solutions \n",
    "**Harvard University**<br>\n",
    "**Fall 2016**<br>\n",
    "**Instructors: W. Pan, P. Protopapas, K. Rader**<br>\n",
    "**Due Date: ** Tuesday, November 22nd, 2016 at 12:00pm"
   ]
  },
  {
   "cell_type": "code",
   "execution_count": 1,
   "metadata": {
    "collapsed": false
   },
   "outputs": [
    {
     "name": "stderr",
     "output_type": "stream",
     "text": [
      "/usr/local/lib/python3.6/site-packages/sklearn/cross_validation.py:41: DeprecationWarning: This module was deprecated in version 0.18 in favor of the model_selection module into which all the refactored classes and functions are moved. Also note that the interface of the new CV iterators are different from that of this module. This module will be removed in 0.20.\n",
      "  \"This module will be removed in 0.20.\", DeprecationWarning)\n"
     ]
    }
   ],
   "source": [
    "import numpy as np\n",
    "import pandas as pd\n",
    "import scipy as sp\n",
    "from sklearn import preprocessing\n",
    "from sklearn.cross_validation import KFold\n",
    "from sklearn.linear_model import LogisticRegression\n",
    "from sklearn.discriminant_analysis import LinearDiscriminantAnalysis as LDA\n",
    "from sklearn.discriminant_analysis import QuadraticDiscriminantAnalysis as QDA\n",
    "from sklearn.neighbors import KNeighborsClassifier as KNN\n",
    "from sklearn.tree import DecisionTreeClassifier as DecisionTree\n",
    "from sklearn.ensemble import RandomForestClassifier as RandomForest\n",
    "from sklearn.svm import SVC\n",
    "from sklearn.cross_validation import train_test_split\n",
    "import matplotlib\n",
    "import matplotlib.pyplot as plt\n",
    "%matplotlib inline"
   ]
  },
  {
   "cell_type": "markdown",
   "metadata": {},
   "source": [
    "# Part I: Diagnosing the Semian Flu 2016\n",
    "\n",
    "You are given the early data for an outbreak of a dangerous virus originating from a group of primates being keeped in a Massechussetts biomedical research lab, this virus is dubbed the \"Semian Flu\".\n",
    "\n",
    "You have the medical records of $n$ number of patients in `'flu_train.csv`. There are two general types of patients in the data, flu patients and healthy (this is recorded in the column labeled `flu`, a 0 indicates the absences of the virus and a 1 indicates presence). Furthermore, scientists have found that there are two strains of the virus, each requiring a different type of treatment (this is recorded in the column labeled `flutype`, a 1 indicates the absences of the virus, a 2 indicates presence of strain 1 and a 3 indicates the presence of strain 2).\n",
    "\n",
    "**Your task:** build a model to predict if a given patient has the flu. Your goal is to catch as many flu patients as possible without misdiagnosing too many healthy patients.\n",
    "\n",
    "**The deliverable:** a function called `flu_predict` which satisfies:\n",
    "\n",
    "- input: `x_test`, a set of medical predictors for a group of patients\n",
    "- output: `y_pred`, a set of labels, one for each patient; 0 for healthy and 1 for infected with the flu virus\n",
    "\n",
    "The MA state government will use your model to diagnose sets of future patients (held by us). You can expect that there will be an increase in the number of flu patients in any groups of patients in the future.\n",
    "\n",
    "We provide you with some benchmarks for comparison.\n",
    "\n",
    "**Baseline Model:** \n",
    "- ~50% expected accuracy on healthy patients in observed data\n",
    "- ~50% expected accuracy on flu patients in observed data\n",
    "- ~50% expected accuracy on healthy patients in future data \n",
    "- ~50% expected accuracy on flu patients in future data\n",
    "- time to build: 5 min\n",
    "\n",
    "**Reasonable Model:** \n",
    "- ~69% expected accuracy on healthy patients in observed data\n",
    "- ~55% expected accuracy on flu patients, in observed data\n",
    "- ~69% expected accuracy on healthy patients in future data\n",
    "- ~60% expected accuracy on flu patients, in future data\n",
    "- time to build: 20 min\n",
    "\n",
    "**Grading:**\n",
    "Your grade will be based on:\n",
    "1. your model's ability to out-perform our benchmarks\n",
    "2. your ability to carefully and thoroughly follow the data science pipeline (see lecture slides for definition)\n",
    "3. the extend to which all choices are reasonable and defensible by methods you have learned in this class"
   ]
  },
  {
   "cell_type": "markdown",
   "metadata": {},
   "source": [
    "**Solutions:**\n",
    "\n",
    "## Step 1: Read the data, clean and explore the data\n",
    "\n",
    "There are a large number of missing values in the data. Nearly all predictors have some degree of missingness. Not all missingness are alike: as Mike points out, NaN in the `'pregnancy'` column is meaningful and informative, as patients with NaN's in the pregnancy column are males, where as NaN's in other predictors may appear randomly. \n",
    "\n",
    "\n",
    "**What we do:** We make no attempt to interpret the predictors and we make no attempt to model the missing values in the data in any meaningful way. We replace all missing values with 0.\n",
    "\n",
    "However, it would be more complete to look at the data and allow the data to inform your decision on how to address missingness. For columns where NaN values are informative, you might want to treat NaN as a distinct value; You might want to drop predictors with too many missing values and impute the ones with few missing values using KNN or a parametric model. There are many acceptable strategies here, as long as the appropriateness of the method in the context of the task and the data is discussed."
   ]
  },
  {
   "cell_type": "code",
   "execution_count": 2,
   "metadata": {
    "collapsed": false
   },
   "outputs": [
    {
     "data": {
      "text/html": [
       "<div>\n",
       "<table border=\"1\" class=\"dataframe\">\n",
       "  <thead>\n",
       "    <tr style=\"text-align: right;\">\n",
       "      <th></th>\n",
       "      <th>ID</th>\n",
       "      <th>Gender</th>\n",
       "      <th>Age</th>\n",
       "      <th>AgeDecade</th>\n",
       "      <th>AgeMonths</th>\n",
       "      <th>Race1</th>\n",
       "      <th>Race3</th>\n",
       "      <th>Education</th>\n",
       "      <th>MaritalStatus</th>\n",
       "      <th>HHIncome</th>\n",
       "      <th>...</th>\n",
       "      <th>HardDrugs</th>\n",
       "      <th>SexEver</th>\n",
       "      <th>SexAge</th>\n",
       "      <th>SexNumPartnLife</th>\n",
       "      <th>SexNumPartYear</th>\n",
       "      <th>SameSex</th>\n",
       "      <th>SexOrientation</th>\n",
       "      <th>PregnantNow</th>\n",
       "      <th>flu</th>\n",
       "      <th>flutype</th>\n",
       "    </tr>\n",
       "  </thead>\n",
       "  <tbody>\n",
       "    <tr>\n",
       "      <th>0</th>\n",
       "      <td>51624</td>\n",
       "      <td>male</td>\n",
       "      <td>34</td>\n",
       "      <td>30-39</td>\n",
       "      <td>409.0</td>\n",
       "      <td>White</td>\n",
       "      <td>NaN</td>\n",
       "      <td>High School</td>\n",
       "      <td>Married</td>\n",
       "      <td>25000-34999</td>\n",
       "      <td>...</td>\n",
       "      <td>Yes</td>\n",
       "      <td>Yes</td>\n",
       "      <td>16.0</td>\n",
       "      <td>8.0</td>\n",
       "      <td>1.0</td>\n",
       "      <td>No</td>\n",
       "      <td>Heterosexual</td>\n",
       "      <td>NaN</td>\n",
       "      <td>0</td>\n",
       "      <td>1</td>\n",
       "    </tr>\n",
       "    <tr>\n",
       "      <th>1</th>\n",
       "      <td>51630</td>\n",
       "      <td>female</td>\n",
       "      <td>49</td>\n",
       "      <td>40-49</td>\n",
       "      <td>596.0</td>\n",
       "      <td>White</td>\n",
       "      <td>NaN</td>\n",
       "      <td>Some College</td>\n",
       "      <td>LivePartner</td>\n",
       "      <td>35000-44999</td>\n",
       "      <td>...</td>\n",
       "      <td>Yes</td>\n",
       "      <td>Yes</td>\n",
       "      <td>12.0</td>\n",
       "      <td>10.0</td>\n",
       "      <td>1.0</td>\n",
       "      <td>Yes</td>\n",
       "      <td>Heterosexual</td>\n",
       "      <td>NaN</td>\n",
       "      <td>0</td>\n",
       "      <td>1</td>\n",
       "    </tr>\n",
       "    <tr>\n",
       "      <th>2</th>\n",
       "      <td>51638</td>\n",
       "      <td>male</td>\n",
       "      <td>9</td>\n",
       "      <td>0-9</td>\n",
       "      <td>115.0</td>\n",
       "      <td>White</td>\n",
       "      <td>NaN</td>\n",
       "      <td>NaN</td>\n",
       "      <td>NaN</td>\n",
       "      <td>75000-99999</td>\n",
       "      <td>...</td>\n",
       "      <td>NaN</td>\n",
       "      <td>NaN</td>\n",
       "      <td>NaN</td>\n",
       "      <td>NaN</td>\n",
       "      <td>NaN</td>\n",
       "      <td>NaN</td>\n",
       "      <td>NaN</td>\n",
       "      <td>NaN</td>\n",
       "      <td>0</td>\n",
       "      <td>1</td>\n",
       "    </tr>\n",
       "    <tr>\n",
       "      <th>3</th>\n",
       "      <td>51646</td>\n",
       "      <td>male</td>\n",
       "      <td>8</td>\n",
       "      <td>0-9</td>\n",
       "      <td>101.0</td>\n",
       "      <td>White</td>\n",
       "      <td>NaN</td>\n",
       "      <td>NaN</td>\n",
       "      <td>NaN</td>\n",
       "      <td>55000-64999</td>\n",
       "      <td>...</td>\n",
       "      <td>NaN</td>\n",
       "      <td>NaN</td>\n",
       "      <td>NaN</td>\n",
       "      <td>NaN</td>\n",
       "      <td>NaN</td>\n",
       "      <td>NaN</td>\n",
       "      <td>NaN</td>\n",
       "      <td>NaN</td>\n",
       "      <td>0</td>\n",
       "      <td>1</td>\n",
       "    </tr>\n",
       "    <tr>\n",
       "      <th>4</th>\n",
       "      <td>51647</td>\n",
       "      <td>female</td>\n",
       "      <td>45</td>\n",
       "      <td>40-49</td>\n",
       "      <td>541.0</td>\n",
       "      <td>White</td>\n",
       "      <td>NaN</td>\n",
       "      <td>College Grad</td>\n",
       "      <td>Married</td>\n",
       "      <td>75000-99999</td>\n",
       "      <td>...</td>\n",
       "      <td>No</td>\n",
       "      <td>Yes</td>\n",
       "      <td>13.0</td>\n",
       "      <td>20.0</td>\n",
       "      <td>0.0</td>\n",
       "      <td>Yes</td>\n",
       "      <td>Bisexual</td>\n",
       "      <td>NaN</td>\n",
       "      <td>0</td>\n",
       "      <td>1</td>\n",
       "    </tr>\n",
       "  </tbody>\n",
       "</table>\n",
       "<p>5 rows × 76 columns</p>\n",
       "</div>"
      ],
      "text/plain": [
       "      ID  Gender  Age AgeDecade  AgeMonths  Race1 Race3     Education  \\\n",
       "0  51624    male   34     30-39      409.0  White   NaN   High School   \n",
       "1  51630  female   49     40-49      596.0  White   NaN  Some College   \n",
       "2  51638    male    9       0-9      115.0  White   NaN           NaN   \n",
       "3  51646    male    8       0-9      101.0  White   NaN           NaN   \n",
       "4  51647  female   45     40-49      541.0  White   NaN  College Grad   \n",
       "\n",
       "  MaritalStatus     HHIncome   ...     HardDrugs  SexEver  SexAge  \\\n",
       "0       Married  25000-34999   ...           Yes      Yes    16.0   \n",
       "1   LivePartner  35000-44999   ...           Yes      Yes    12.0   \n",
       "2           NaN  75000-99999   ...           NaN      NaN     NaN   \n",
       "3           NaN  55000-64999   ...           NaN      NaN     NaN   \n",
       "4       Married  75000-99999   ...            No      Yes    13.0   \n",
       "\n",
       "  SexNumPartnLife SexNumPartYear  SameSex  SexOrientation  PregnantNow  flu  \\\n",
       "0             8.0            1.0       No    Heterosexual          NaN    0   \n",
       "1            10.0            1.0      Yes    Heterosexual          NaN    0   \n",
       "2             NaN            NaN      NaN             NaN          NaN    0   \n",
       "3             NaN            NaN      NaN             NaN          NaN    0   \n",
       "4            20.0            0.0      Yes        Bisexual          NaN    0   \n",
       "\n",
       "   flutype  \n",
       "0        1  \n",
       "1        1  \n",
       "2        1  \n",
       "3        1  \n",
       "4        1  \n",
       "\n",
       "[5 rows x 76 columns]"
      ]
     },
     "execution_count": 2,
     "metadata": {},
     "output_type": "execute_result"
    }
   ],
   "source": [
    "#Train\n",
    "\n",
    "df = pd.read_csv('data/flu_train.csv')\n",
    "\n",
    "df = df[~np.isnan(df['flu'])]\n",
    "\n",
    "df.head()"
   ]
  },
  {
   "cell_type": "code",
   "execution_count": 4,
   "metadata": {
    "collapsed": true
   },
   "outputs": [],
   "source": [
    "#Clean and encode\n",
    "\n",
    "encode = preprocessing.LabelEncoder()\n",
    "\n",
    "for column in df.columns:\n",
    "    if df[column].dtype == np.object:\n",
    "        df[column] = df[column].fillna('')\n",
    "        df.loc[:, column] = encode.fit_transform(df[column])\n",
    "        \n",
    "df = df.fillna(0)\n",
    "\n",
    "df.head()"
   ]
  },
  {
   "cell_type": "code",
   "execution_count": 9,
   "metadata": {
    "collapsed": false
   },
   "outputs": [
    {
     "data": {
      "text/html": [
       "<div>\n",
       "<table border=\"1\" class=\"dataframe\">\n",
       "  <thead>\n",
       "    <tr style=\"text-align: right;\">\n",
       "      <th></th>\n",
       "      <th>ID</th>\n",
       "      <th>Gender</th>\n",
       "      <th>Age</th>\n",
       "      <th>AgeDecade</th>\n",
       "      <th>AgeMonths</th>\n",
       "      <th>Race1</th>\n",
       "      <th>Race3</th>\n",
       "      <th>Education</th>\n",
       "      <th>MaritalStatus</th>\n",
       "      <th>HHIncome</th>\n",
       "      <th>...</th>\n",
       "      <th>HardDrugs</th>\n",
       "      <th>SexEver</th>\n",
       "      <th>SexAge</th>\n",
       "      <th>SexNumPartnLife</th>\n",
       "      <th>SexNumPartYear</th>\n",
       "      <th>SameSex</th>\n",
       "      <th>SexOrientation</th>\n",
       "      <th>PregnantNow</th>\n",
       "      <th>flu</th>\n",
       "      <th>flutype</th>\n",
       "    </tr>\n",
       "  </thead>\n",
       "  <tbody>\n",
       "    <tr>\n",
       "      <th>0</th>\n",
       "      <td>51625</td>\n",
       "      <td>male</td>\n",
       "      <td>4</td>\n",
       "      <td>0-9</td>\n",
       "      <td>49.0</td>\n",
       "      <td>Other</td>\n",
       "      <td>NaN</td>\n",
       "      <td>NaN</td>\n",
       "      <td>NaN</td>\n",
       "      <td>20000-24999</td>\n",
       "      <td>...</td>\n",
       "      <td>NaN</td>\n",
       "      <td>NaN</td>\n",
       "      <td>NaN</td>\n",
       "      <td>NaN</td>\n",
       "      <td>NaN</td>\n",
       "      <td>NaN</td>\n",
       "      <td>NaN</td>\n",
       "      <td>NaN</td>\n",
       "      <td>0</td>\n",
       "      <td>1</td>\n",
       "    </tr>\n",
       "    <tr>\n",
       "      <th>1</th>\n",
       "      <td>51678</td>\n",
       "      <td>male</td>\n",
       "      <td>60</td>\n",
       "      <td>60-69</td>\n",
       "      <td>721.0</td>\n",
       "      <td>White</td>\n",
       "      <td>NaN</td>\n",
       "      <td>High School</td>\n",
       "      <td>Married</td>\n",
       "      <td>15000-19999</td>\n",
       "      <td>...</td>\n",
       "      <td>No</td>\n",
       "      <td>Yes</td>\n",
       "      <td>20.0</td>\n",
       "      <td>1.0</td>\n",
       "      <td>NaN</td>\n",
       "      <td>No</td>\n",
       "      <td>NaN</td>\n",
       "      <td>NaN</td>\n",
       "      <td>0</td>\n",
       "      <td>1</td>\n",
       "    </tr>\n",
       "    <tr>\n",
       "      <th>2</th>\n",
       "      <td>51694</td>\n",
       "      <td>male</td>\n",
       "      <td>38</td>\n",
       "      <td>30-39</td>\n",
       "      <td>458.0</td>\n",
       "      <td>White</td>\n",
       "      <td>NaN</td>\n",
       "      <td>Some College</td>\n",
       "      <td>Married</td>\n",
       "      <td>20000-24999</td>\n",
       "      <td>...</td>\n",
       "      <td>No</td>\n",
       "      <td>Yes</td>\n",
       "      <td>23.0</td>\n",
       "      <td>1.0</td>\n",
       "      <td>1.0</td>\n",
       "      <td>No</td>\n",
       "      <td>Heterosexual</td>\n",
       "      <td>NaN</td>\n",
       "      <td>0</td>\n",
       "      <td>1</td>\n",
       "    </tr>\n",
       "    <tr>\n",
       "      <th>3</th>\n",
       "      <td>51695</td>\n",
       "      <td>male</td>\n",
       "      <td>8</td>\n",
       "      <td>0-9</td>\n",
       "      <td>104.0</td>\n",
       "      <td>White</td>\n",
       "      <td>NaN</td>\n",
       "      <td>NaN</td>\n",
       "      <td>NaN</td>\n",
       "      <td>65000-74999</td>\n",
       "      <td>...</td>\n",
       "      <td>NaN</td>\n",
       "      <td>NaN</td>\n",
       "      <td>NaN</td>\n",
       "      <td>NaN</td>\n",
       "      <td>NaN</td>\n",
       "      <td>NaN</td>\n",
       "      <td>NaN</td>\n",
       "      <td>NaN</td>\n",
       "      <td>0</td>\n",
       "      <td>1</td>\n",
       "    </tr>\n",
       "    <tr>\n",
       "      <th>4</th>\n",
       "      <td>51711</td>\n",
       "      <td>female</td>\n",
       "      <td>59</td>\n",
       "      <td>50-59</td>\n",
       "      <td>718.0</td>\n",
       "      <td>Other</td>\n",
       "      <td>NaN</td>\n",
       "      <td>8th Grade</td>\n",
       "      <td>Widowed</td>\n",
       "      <td>20000-24999</td>\n",
       "      <td>...</td>\n",
       "      <td>NaN</td>\n",
       "      <td>NaN</td>\n",
       "      <td>NaN</td>\n",
       "      <td>NaN</td>\n",
       "      <td>NaN</td>\n",
       "      <td>NaN</td>\n",
       "      <td>NaN</td>\n",
       "      <td>NaN</td>\n",
       "      <td>1</td>\n",
       "      <td>3</td>\n",
       "    </tr>\n",
       "  </tbody>\n",
       "</table>\n",
       "<p>5 rows × 76 columns</p>\n",
       "</div>"
      ],
      "text/plain": [
       "      ID  Gender  Age AgeDecade  AgeMonths  Race1 Race3     Education  \\\n",
       "0  51625    male    4       0-9       49.0  Other   NaN           NaN   \n",
       "1  51678    male   60     60-69      721.0  White   NaN   High School   \n",
       "2  51694    male   38     30-39      458.0  White   NaN  Some College   \n",
       "3  51695    male    8       0-9      104.0  White   NaN           NaN   \n",
       "4  51711  female   59     50-59      718.0  Other   NaN     8th Grade   \n",
       "\n",
       "  MaritalStatus     HHIncome   ...     HardDrugs  SexEver  SexAge  \\\n",
       "0           NaN  20000-24999   ...           NaN      NaN     NaN   \n",
       "1       Married  15000-19999   ...            No      Yes    20.0   \n",
       "2       Married  20000-24999   ...            No      Yes    23.0   \n",
       "3           NaN  65000-74999   ...           NaN      NaN     NaN   \n",
       "4       Widowed  20000-24999   ...           NaN      NaN     NaN   \n",
       "\n",
       "  SexNumPartnLife SexNumPartYear  SameSex  SexOrientation  PregnantNow  flu  \\\n",
       "0             NaN            NaN      NaN             NaN          NaN    0   \n",
       "1             1.0            NaN       No             NaN          NaN    0   \n",
       "2             1.0            1.0       No    Heterosexual          NaN    0   \n",
       "3             NaN            NaN      NaN             NaN          NaN    0   \n",
       "4             NaN            NaN      NaN             NaN          NaN    1   \n",
       "\n",
       "   flutype  \n",
       "0        1  \n",
       "1        1  \n",
       "2        1  \n",
       "3        1  \n",
       "4        3  \n",
       "\n",
       "[5 rows x 76 columns]"
      ]
     },
     "execution_count": 9,
     "metadata": {},
     "output_type": "execute_result"
    }
   ],
   "source": [
    "#Test\n",
    "\n",
    "df_test = pd.read_csv('data/flu_test.csv')\n",
    "\n",
    "df_test = df_test[~np.isnan(df_test['flu'])]\n",
    "\n",
    "df_test.head()"
   ]
  },
  {
   "cell_type": "code",
   "execution_count": 12,
   "metadata": {
    "collapsed": false
   },
   "outputs": [
    {
     "data": {
      "text/html": [
       "<div>\n",
       "<table border=\"1\" class=\"dataframe\">\n",
       "  <thead>\n",
       "    <tr style=\"text-align: right;\">\n",
       "      <th></th>\n",
       "      <th>ID</th>\n",
       "      <th>Gender</th>\n",
       "      <th>Age</th>\n",
       "      <th>AgeDecade</th>\n",
       "      <th>AgeMonths</th>\n",
       "      <th>Race1</th>\n",
       "      <th>Race3</th>\n",
       "      <th>Education</th>\n",
       "      <th>MaritalStatus</th>\n",
       "      <th>HHIncome</th>\n",
       "      <th>...</th>\n",
       "      <th>HardDrugs</th>\n",
       "      <th>SexEver</th>\n",
       "      <th>SexAge</th>\n",
       "      <th>SexNumPartnLife</th>\n",
       "      <th>SexNumPartYear</th>\n",
       "      <th>SameSex</th>\n",
       "      <th>SexOrientation</th>\n",
       "      <th>PregnantNow</th>\n",
       "      <th>flu</th>\n",
       "      <th>flutype</th>\n",
       "    </tr>\n",
       "  </thead>\n",
       "  <tbody>\n",
       "    <tr>\n",
       "      <th>0</th>\n",
       "      <td>51625</td>\n",
       "      <td>1</td>\n",
       "      <td>4</td>\n",
       "      <td>1</td>\n",
       "      <td>49.0</td>\n",
       "      <td>3</td>\n",
       "      <td>0</td>\n",
       "      <td>0</td>\n",
       "      <td>0</td>\n",
       "      <td>5</td>\n",
       "      <td>...</td>\n",
       "      <td>0</td>\n",
       "      <td>0</td>\n",
       "      <td>0.0</td>\n",
       "      <td>0.0</td>\n",
       "      <td>0.0</td>\n",
       "      <td>0</td>\n",
       "      <td>0</td>\n",
       "      <td>0</td>\n",
       "      <td>0</td>\n",
       "      <td>1</td>\n",
       "    </tr>\n",
       "    <tr>\n",
       "      <th>1</th>\n",
       "      <td>51678</td>\n",
       "      <td>1</td>\n",
       "      <td>60</td>\n",
       "      <td>7</td>\n",
       "      <td>721.0</td>\n",
       "      <td>4</td>\n",
       "      <td>0</td>\n",
       "      <td>4</td>\n",
       "      <td>3</td>\n",
       "      <td>4</td>\n",
       "      <td>...</td>\n",
       "      <td>1</td>\n",
       "      <td>2</td>\n",
       "      <td>20.0</td>\n",
       "      <td>1.0</td>\n",
       "      <td>0.0</td>\n",
       "      <td>1</td>\n",
       "      <td>0</td>\n",
       "      <td>0</td>\n",
       "      <td>0</td>\n",
       "      <td>1</td>\n",
       "    </tr>\n",
       "    <tr>\n",
       "      <th>2</th>\n",
       "      <td>51694</td>\n",
       "      <td>1</td>\n",
       "      <td>38</td>\n",
       "      <td>4</td>\n",
       "      <td>458.0</td>\n",
       "      <td>4</td>\n",
       "      <td>0</td>\n",
       "      <td>5</td>\n",
       "      <td>3</td>\n",
       "      <td>5</td>\n",
       "      <td>...</td>\n",
       "      <td>1</td>\n",
       "      <td>2</td>\n",
       "      <td>23.0</td>\n",
       "      <td>1.0</td>\n",
       "      <td>1.0</td>\n",
       "      <td>1</td>\n",
       "      <td>2</td>\n",
       "      <td>0</td>\n",
       "      <td>0</td>\n",
       "      <td>1</td>\n",
       "    </tr>\n",
       "    <tr>\n",
       "      <th>3</th>\n",
       "      <td>51695</td>\n",
       "      <td>1</td>\n",
       "      <td>8</td>\n",
       "      <td>1</td>\n",
       "      <td>104.0</td>\n",
       "      <td>4</td>\n",
       "      <td>0</td>\n",
       "      <td>0</td>\n",
       "      <td>0</td>\n",
       "      <td>10</td>\n",
       "      <td>...</td>\n",
       "      <td>0</td>\n",
       "      <td>0</td>\n",
       "      <td>0.0</td>\n",
       "      <td>0.0</td>\n",
       "      <td>0.0</td>\n",
       "      <td>0</td>\n",
       "      <td>0</td>\n",
       "      <td>0</td>\n",
       "      <td>0</td>\n",
       "      <td>1</td>\n",
       "    </tr>\n",
       "    <tr>\n",
       "      <th>4</th>\n",
       "      <td>51711</td>\n",
       "      <td>0</td>\n",
       "      <td>59</td>\n",
       "      <td>6</td>\n",
       "      <td>718.0</td>\n",
       "      <td>3</td>\n",
       "      <td>0</td>\n",
       "      <td>1</td>\n",
       "      <td>6</td>\n",
       "      <td>5</td>\n",
       "      <td>...</td>\n",
       "      <td>0</td>\n",
       "      <td>0</td>\n",
       "      <td>0.0</td>\n",
       "      <td>0.0</td>\n",
       "      <td>0.0</td>\n",
       "      <td>0</td>\n",
       "      <td>0</td>\n",
       "      <td>0</td>\n",
       "      <td>1</td>\n",
       "      <td>3</td>\n",
       "    </tr>\n",
       "  </tbody>\n",
       "</table>\n",
       "<p>5 rows × 76 columns</p>\n",
       "</div>"
      ],
      "text/plain": [
       "      ID  Gender  Age  AgeDecade  AgeMonths  Race1  Race3  Education  \\\n",
       "0  51625       1    4          1       49.0      3      0          0   \n",
       "1  51678       1   60          7      721.0      4      0          4   \n",
       "2  51694       1   38          4      458.0      4      0          5   \n",
       "3  51695       1    8          1      104.0      4      0          0   \n",
       "4  51711       0   59          6      718.0      3      0          1   \n",
       "\n",
       "   MaritalStatus  HHIncome   ...     HardDrugs  SexEver  SexAge  \\\n",
       "0              0         5   ...             0        0     0.0   \n",
       "1              3         4   ...             1        2    20.0   \n",
       "2              3         5   ...             1        2    23.0   \n",
       "3              0        10   ...             0        0     0.0   \n",
       "4              6         5   ...             0        0     0.0   \n",
       "\n",
       "   SexNumPartnLife  SexNumPartYear  SameSex  SexOrientation  PregnantNow  flu  \\\n",
       "0              0.0             0.0        0               0            0    0   \n",
       "1              1.0             0.0        1               0            0    0   \n",
       "2              1.0             1.0        1               2            0    0   \n",
       "3              0.0             0.0        0               0            0    0   \n",
       "4              0.0             0.0        0               0            0    1   \n",
       "\n",
       "   flutype  \n",
       "0        1  \n",
       "1        1  \n",
       "2        1  \n",
       "3        1  \n",
       "4        3  \n",
       "\n",
       "[5 rows x 76 columns]"
      ]
     },
     "execution_count": 12,
     "metadata": {},
     "output_type": "execute_result"
    }
   ],
   "source": [
    "#Clean and encode\n",
    "\n",
    "encode = preprocessing.LabelEncoder()\n",
    "\n",
    "for column in df_test.columns:\n",
    "    if df_test[column].dtype == np.object:\n",
    "        df_test[column] = df_test[column].fillna('')\n",
    "        df_test.loc[:, column] = encode.fit_transform(df_test[column])\n",
    "        \n",
    "df_test = df_test.fillna(0)\n",
    "\n",
    "df_test.head()"
   ]
  },
  {
   "cell_type": "code",
   "execution_count": 14,
   "metadata": {
    "collapsed": false
   },
   "outputs": [
    {
     "name": "stdout",
     "output_type": "stream",
     "text": [
      "x train shape: (5246, 74)\n",
      "x test shape: (1533, 74)\n",
      "train class 0: 4936, train class 1: 310\n",
      "train class 0: 1232, train class 1: 301\n"
     ]
    }
   ],
   "source": [
    "#What's up in each set\n",
    "\n",
    "x = df.values[:, :-2]\n",
    "y = df.values[:, -2]\n",
    "\n",
    "x_test = df_test.values[:, :-2]\n",
    "y_test = df_test.values[:, -2]\n",
    "\n",
    "print('x train shape:', x.shape)\n",
    "print('x test shape:', x_test.shape)\n",
    "print('train class 0: {}, train class 1: {}'.format(len(y[y==0]), len(y[y==1])))\n",
    "print('train class 0: {}, train class 1: {}'.format(len(y_test[y_test==0]), len(y_test[y_test==1])))"
   ]
  },
  {
   "cell_type": "markdown",
   "metadata": {},
   "source": [
    "## Step 2: Model Choice\n",
    "\n",
    "The first task is to decide which, of the large number of classifiers we have learned during this semester, would best suit our task and our data.\n",
    "\n",
    "It would be possible to do brute force model comparison here - i.e. tune all models and compare which does best with respect to various benchmarks. However, it is also reasonable to do a first round of model comparison by running models (with out of the box parameter settings) on the training data and eliminating models which performed very poorly. "
   ]
  },
  {
   "cell_type": "code",
   "execution_count": 15,
   "metadata": {
    "collapsed": false
   },
   "outputs": [],
   "source": [
    "def expected_score(model, x_test, y_test):\n",
    "    overall = 0\n",
    "    class_0 = 0\n",
    "    class_1 = 0\n",
    "    for i in range(100):\n",
    "        sample = np.random.choice(len(x_test), len(x_test))\n",
    "        x_sub_test = x_test[sample]\n",
    "        y_sub_test = y_test[sample]\n",
    "        \n",
    "        overall += model.score(x_sub_test, y_sub_test)\n",
    "        class_0 += model.score(x_sub_test[y_sub_test==0], y_sub_test[y_sub_test==0])\n",
    "        class_1 += model.score(x_sub_test[y_sub_test==1], y_sub_test[y_sub_test==1])\n",
    "\n",
    "    return pd.Series([overall / 100., \n",
    "                      class_0 / 100.,\n",
    "                      class_1 / 100.],\n",
    "                      index=['overall accuracy', 'accuracy on class 0', 'accuracy on class 1'])\n",
    "\n",
    "score = lambda model, x_test, y_test: pd.Series([model.score(x_test, y_test), \n",
    "                                                 model.score(x_test[y_test==0], y_test[y_test==0]),\n",
    "                                                 model.score(x_test[y_test==1], y_test[y_test==1])], \n",
    "                                                index=['overall accuracy', 'accuracy on class 0', 'accuracy on class 1'])"
   ]
  },
  {
   "cell_type": "code",
   "execution_count": 16,
   "metadata": {
    "collapsed": false
   },
   "outputs": [
    {
     "name": "stdout",
     "output_type": "stream",
     "text": [
      "knn\n",
      "unweighted log\n",
      "weighted log\n",
      "lda\n"
     ]
    },
    {
     "name": "stderr",
     "output_type": "stream",
     "text": [
      "/usr/local/lib/python3.6/site-packages/sklearn/discriminant_analysis.py:388: UserWarning: Variables are collinear.\n",
      "  warnings.warn(\"Variables are collinear.\")\n",
      "/usr/local/lib/python3.6/site-packages/sklearn/discriminant_analysis.py:682: UserWarning: Variables are collinear\n",
      "  warnings.warn(\"Variables are collinear\")\n"
     ]
    },
    {
     "name": "stdout",
     "output_type": "stream",
     "text": [
      "qda\n",
      "tree\n",
      "rf\n",
      "svc\n"
     ]
    }
   ],
   "source": [
    "#KNN\n",
    "knn = KNN(n_neighbors=2)\n",
    "knn.fit(x, y)\n",
    "\n",
    "knn_scores = score(knn, x, y)\n",
    "print('knn')\n",
    "\n",
    "#Unweighted logistic regression\n",
    "unweighted_logistic = LogisticRegression(C=1000)\n",
    "unweighted_logistic.fit(x, y)\n",
    "\n",
    "unweighted_log_scores = score(unweighted_logistic, x, y)\n",
    "print('unweighted log')\n",
    "\n",
    "\n",
    "#Weighted logistic regression\n",
    "weighted_logistic = LogisticRegression(C=1000, class_weight='balanced')\n",
    "weighted_logistic.fit(x, y)\n",
    "\n",
    "weighted_log_scores = score(weighted_logistic, x, y)\n",
    "print('weighted log')\n",
    "\n",
    "\n",
    "#LDA\n",
    "lda = LDA()\n",
    "lda.fit(x, y)\n",
    "\n",
    "lda_scores = score(lda, x, y)\n",
    "print('lda')\n",
    "\n",
    "#QDA\n",
    "qda = QDA()\n",
    "qda.fit(x, y)\n",
    "\n",
    "qda_scores = score(qda, x, y)\n",
    "print('qda')\n",
    "\n",
    "#Decision Tree\n",
    "tree = DecisionTree(max_depth=50, class_weight='balanced', criterion='entropy')\n",
    "tree.fit(x, y)\n",
    "\n",
    "tree_scores = score(tree, x, y)\n",
    "print('tree')\n",
    "\n",
    "\n",
    "#Random Forest\n",
    "rf = RandomForest(class_weight='balanced')\n",
    "rf.fit(x, y)\n",
    "\n",
    "rf_scores = score(rf, x, y)\n",
    "\n",
    "print('rf')\n",
    "\n",
    "#SVC\n",
    "svc = SVC(C=100, class_weight='balanced')\n",
    "svc.fit(x, y)\n",
    "\n",
    "svc_scores = score(svc, x, y)\n",
    "\n",
    "print('svc')"
   ]
  },
  {
   "cell_type": "code",
   "execution_count": 17,
   "metadata": {
    "collapsed": false
   },
   "outputs": [
    {
     "data": {
      "text/html": [
       "<div>\n",
       "<table border=\"1\" class=\"dataframe\">\n",
       "  <thead>\n",
       "    <tr style=\"text-align: right;\">\n",
       "      <th></th>\n",
       "      <th>knn</th>\n",
       "      <th>lda</th>\n",
       "      <th>qda</th>\n",
       "      <th>rf</th>\n",
       "      <th>svc</th>\n",
       "      <th>tree</th>\n",
       "      <th>unweighted logistic</th>\n",
       "      <th>weighted logistic</th>\n",
       "    </tr>\n",
       "  </thead>\n",
       "  <tbody>\n",
       "    <tr>\n",
       "      <th>overall accuracy</th>\n",
       "      <td>0.945864</td>\n",
       "      <td>0.937476</td>\n",
       "      <td>0.858559</td>\n",
       "      <td>0.988944</td>\n",
       "      <td>1.0</td>\n",
       "      <td>1.0</td>\n",
       "      <td>0.941289</td>\n",
       "      <td>0.705681</td>\n",
       "    </tr>\n",
       "    <tr>\n",
       "      <th>accuracy on class 0</th>\n",
       "      <td>1.000000</td>\n",
       "      <td>0.985616</td>\n",
       "      <td>0.869327</td>\n",
       "      <td>0.999797</td>\n",
       "      <td>1.0</td>\n",
       "      <td>1.0</td>\n",
       "      <td>0.999392</td>\n",
       "      <td>0.707050</td>\n",
       "    </tr>\n",
       "    <tr>\n",
       "      <th>accuracy on class 1</th>\n",
       "      <td>0.083871</td>\n",
       "      <td>0.170968</td>\n",
       "      <td>0.687097</td>\n",
       "      <td>0.816129</td>\n",
       "      <td>1.0</td>\n",
       "      <td>1.0</td>\n",
       "      <td>0.016129</td>\n",
       "      <td>0.683871</td>\n",
       "    </tr>\n",
       "  </tbody>\n",
       "</table>\n",
       "</div>"
      ],
      "text/plain": [
       "                          knn       lda       qda        rf  svc  tree  \\\n",
       "overall accuracy     0.945864  0.937476  0.858559  0.988944  1.0   1.0   \n",
       "accuracy on class 0  1.000000  0.985616  0.869327  0.999797  1.0   1.0   \n",
       "accuracy on class 1  0.083871  0.170968  0.687097  0.816129  1.0   1.0   \n",
       "\n",
       "                     unweighted logistic  weighted logistic  \n",
       "overall accuracy                0.941289           0.705681  \n",
       "accuracy on class 0             0.999392           0.707050  \n",
       "accuracy on class 1             0.016129           0.683871  "
      ]
     },
     "execution_count": 17,
     "metadata": {},
     "output_type": "execute_result"
    }
   ],
   "source": [
    "#Score Dataframe\n",
    "score_df = pd.DataFrame({'knn': knn_scores, \n",
    "                         'unweighted logistic': unweighted_log_scores,\n",
    "                         'weighted logistic': weighted_log_scores,\n",
    "                         'lda': lda_scores,\n",
    "                         'qda': qda_scores,\n",
    "                         'tree': tree_scores,\n",
    "                         'rf': rf_scores, \n",
    "                         'svc': svc_scores})\n",
    "score_df"
   ]
  },
  {
   "cell_type": "markdown",
   "metadata": {},
   "source": [
    "It looks like we can rule out KNN, LDA and unweighted logistic. \n",
    "\n",
    "**What we do:** We are going to pick weighted logistic regression and just tune the regularization parameter to beat the test benchmarks.\n",
    "\n",
    "**What's probably good to do:** QDA, random forest, tree, SVC and weighted logistic are beating our train benchmarks as is. We will tune them to beat the test benchmarks by picking the model and parameter set with the highest CV accuracy."
   ]
  },
  {
   "cell_type": "code",
   "execution_count": 18,
   "metadata": {
    "collapsed": false
   },
   "outputs": [
    {
     "name": "stdout",
     "output_type": "stream",
     "text": [
      "C: 0.001\n",
      "C: 0.01\n",
      "C: 0.1\n",
      "C: 1.0\n",
      "C: 10.0\n",
      "C: 100.0\n",
      "C: 1000.0\n"
     ]
    }
   ],
   "source": [
    "Cs = 10.**np.arange(-3, 4, 1)\n",
    "scores = []\n",
    "for C in Cs:\n",
    "    print('C:', C)\n",
    "    weighted_log_scores = np.array([0., 0., 0.])\n",
    "    kf = KFold(len(x), n_folds=10, shuffle=True, random_state=10)\n",
    "    for train_index, test_index in kf:\n",
    "        x_validate_train, x_validate_test = x[train_index], x[test_index]\n",
    "        y_validate_train, y_validate_test = y[train_index], y[test_index]\n",
    "\n",
    "        weighted_logistic = LogisticRegression(C=C, class_weight='balanced')\n",
    "        weighted_logistic.fit(x_validate_train, y_validate_train)\n",
    "\n",
    "        weighted_log_scores += score(weighted_logistic, x_validate_test, y_validate_test).values\n",
    "\n",
    "    scores.append(weighted_log_scores / 10.)\n",
    "\n",
    "scores = pd.DataFrame(np.array(scores).T, columns=[str(C) for C in Cs], index=['overall accuracy', 'accuracy on class 0', 'accuracy on class 1'])"
   ]
  },
  {
   "cell_type": "code",
   "execution_count": 19,
   "metadata": {
    "collapsed": false
   },
   "outputs": [
    {
     "data": {
      "text/html": [
       "<div>\n",
       "<table border=\"1\" class=\"dataframe\">\n",
       "  <thead>\n",
       "    <tr style=\"text-align: right;\">\n",
       "      <th></th>\n",
       "      <th>0.001</th>\n",
       "      <th>0.01</th>\n",
       "      <th>0.1</th>\n",
       "      <th>1.0</th>\n",
       "      <th>10.0</th>\n",
       "      <th>100.0</th>\n",
       "      <th>1000.0</th>\n",
       "    </tr>\n",
       "  </thead>\n",
       "  <tbody>\n",
       "    <tr>\n",
       "      <th>overall accuracy</th>\n",
       "      <td>0.716161</td>\n",
       "      <td>0.701290</td>\n",
       "      <td>0.695951</td>\n",
       "      <td>0.693665</td>\n",
       "      <td>0.694046</td>\n",
       "      <td>0.692710</td>\n",
       "      <td>0.692139</td>\n",
       "    </tr>\n",
       "    <tr>\n",
       "      <th>accuracy on class 0</th>\n",
       "      <td>0.725485</td>\n",
       "      <td>0.709894</td>\n",
       "      <td>0.703826</td>\n",
       "      <td>0.701622</td>\n",
       "      <td>0.701813</td>\n",
       "      <td>0.700418</td>\n",
       "      <td>0.700397</td>\n",
       "    </tr>\n",
       "    <tr>\n",
       "      <th>accuracy on class 1</th>\n",
       "      <td>0.571205</td>\n",
       "      <td>0.569065</td>\n",
       "      <td>0.571008</td>\n",
       "      <td>0.567376</td>\n",
       "      <td>0.568633</td>\n",
       "      <td>0.568499</td>\n",
       "      <td>0.560197</td>\n",
       "    </tr>\n",
       "  </tbody>\n",
       "</table>\n",
       "</div>"
      ],
      "text/plain": [
       "                        0.001      0.01       0.1       1.0      10.0  \\\n",
       "overall accuracy     0.716161  0.701290  0.695951  0.693665  0.694046   \n",
       "accuracy on class 0  0.725485  0.709894  0.703826  0.701622  0.701813   \n",
       "accuracy on class 1  0.571205  0.569065  0.571008  0.567376  0.568633   \n",
       "\n",
       "                        100.0    1000.0  \n",
       "overall accuracy     0.692710  0.692139  \n",
       "accuracy on class 0  0.700418  0.700397  \n",
       "accuracy on class 1  0.568499  0.560197  "
      ]
     },
     "execution_count": 19,
     "metadata": {},
     "output_type": "execute_result"
    }
   ],
   "source": [
    "scores"
   ]
  },
  {
   "cell_type": "markdown",
   "metadata": {},
   "source": [
    "To beat the future benchmark, we'll select the parameter which yields the highest accuracy on class 1 (while still beating the benchmark on class 0).\n",
    "\n",
    "Now let's test our model on the test data:"
   ]
  },
  {
   "cell_type": "code",
   "execution_count": 20,
   "metadata": {
    "collapsed": false
   },
   "outputs": [
    {
     "data": {
      "text/plain": [
       "overall accuracy       0.677756\n",
       "accuracy on class 0    0.691558\n",
       "accuracy on class 1    0.621262\n",
       "dtype: float64"
      ]
     },
     "execution_count": 20,
     "metadata": {},
     "output_type": "execute_result"
    }
   ],
   "source": [
    "#Weighted logistic regression\n",
    "weighted_logistic = LogisticRegression(C=100, class_weight='balanced')\n",
    "weighted_logistic.fit(x, y)\n",
    "weighted_log_scores = score(weighted_logistic, x_test, y_test)\n",
    "weighted_log_scores"
   ]
  },
  {
   "cell_type": "markdown",
   "metadata": {},
   "source": [
    "Yay, we beat all the benchmarks!"
   ]
  },
  {
   "cell_type": "markdown",
   "metadata": {},
   "source": [
    "# Part II: Diagnosing Strains of the Semian Flu\n",
    "\n",
    "From a public health perspective, we want to balance the cost of vaccinations, early interventions and the cost of treating flu complications of unvaccinated people. \n",
    "\n",
    "There are two different strains of the flu: strain 1 has a cheaper early intervention as well as a cheaper treatment for flu complications, but patients with strain 1 has a higher rate of developing complications if treated with the wrong intervention. Strain 2 has a more expensive early intervention as well as a more costly treatment for flu complications, but patients with strain 2 has a lower rate of developing complications if treated with the wrong intervention. With no intervention, flu patients develop complications at the same rate regardless of the strain. \n",
    "\n",
    "**Your task:** build a model to predict if a given patient has the flu and identify the flu strain. The state government of MA will use your model to inform public health policies: we will vaccinate people you've identified as healthy and apply corresponding interventions to patients with different strains of the flu. We have provided you with a function to compute the total expected cost of this policy decision that takes into account the cost of the vaccine, the interventions and the cost of the treatments for flu complications resulting from misdiagnosing patients. Your goal is to make sure your model produces a public health policy with the lowest associated expected cost.\n",
    "\n",
    "**The deliverable:** a function called `flu_predict` which satisfies:\n",
    "\n",
    "- input: `x_test`, a set of medical predictors for a group of patients\n",
    "- output: `y_pred`, a set of labels, one for each patient; 1 for healthy, 2 for infected with strain 1, and 3 for infected with strain 2.\n",
    "\n",
    "The MA state government will use your model to diagnose sets of future patients (held by us). You can expect that there will be an increase in the number of flu patients in any groups of patients in the future.\n",
    "\n",
    "We provide you with some benchmarks for comparison.\n",
    "\n",
    "**Three Baseline Models:** \n",
    "- expected cost on observed data: \\$6,818,206.0, \\$7,035,735.0, \\$8,297,197.5\n",
    "- time to build: 1 min\n",
    "\n",
    "**Reasonable Model:** \n",
    "- expected cost on observed data: $6,300,000\n",
    "- time to build: 20 min\n",
    "\n",
    "**Grading:**\n",
    "Your grade will be based on:\n",
    "1. your model's ability to out-perform our benchmarks\n",
    "2. your ability to carefully and thoroughly follow the data science pipeline (see lecture slides for definition)\n",
    "3. the extend to which all choices are reasonable and defensible by methods you have learned in this class"
   ]
  },
  {
   "cell_type": "code",
   "execution_count": 21,
   "metadata": {
    "collapsed": true
   },
   "outputs": [],
   "source": [
    "#--------  cost\n",
    "# A function that computes the expected cost of the public healthy policy based on the \n",
    "# classifications generated by your model\n",
    "# Input: \n",
    "#      y_true (true class labels: 0, 1, 2)\n",
    "#      y_pred (predicted class labels: 0, 1, 2)\n",
    "# Returns: \n",
    "#      total_cost (expected total cost)\n",
    "\n",
    "def cost(y_true, y_pred):\n",
    "    cost_of_treatment_1 = 29500\n",
    "    cost_of_treatment_2 = 45000\n",
    "    cost_of_intervention_1 = 4150\n",
    "    cost_of_intervention_2 = 4250\n",
    "    cost_of_vaccine = 15\n",
    "    \n",
    "    prob_complications_untreated = 0.65\n",
    "    prob_complications_1 = 0.30\n",
    "    prob_complications_2 = 0.15\n",
    "    \n",
    "    trials = 1000    \n",
    "    \n",
    "    intervention_cost = cost_of_intervention_1 * len(y_pred[y_pred==1]) + cost_of_intervention_2 * len(y_pred[y_pred==2])\n",
    "\n",
    "    vaccine_cost = cost_of_vaccine * len(y_pred[y_pred==0])\n",
    "    \n",
    "    false_neg_1 = ((y_true == 1) & (y_pred == 2)).sum()\n",
    "    false_neg_2 = ((y_true == 2) & (y_pred == 1)).sum()\n",
    "    \n",
    "    untreated_1 = ((y_true == 1) & (y_pred == 0)).sum()    \n",
    "    untreated_2 = ((y_true == 2) & (y_pred == 0)).sum()\n",
    "    \n",
    "    false_neg_1_cost = np.random.binomial(1, prob_complications_1, (false_neg_1, trials)) * cost_of_treatment_1\n",
    "    false_neg_2_cost = np.random.binomial(1, prob_complications_2, (false_neg_2, trials)) * cost_of_treatment_2\n",
    "    untreated_1_cost = np.random.binomial(1, prob_complications_untreated, (untreated_1, trials)) * cost_of_treatment_1\n",
    "    untreated_2_cost = np.random.binomial(1, prob_complications_untreated, (untreated_2, trials)) * cost_of_treatment_2\n",
    "    \n",
    "    false_neg_1_cost = false_neg_1_cost.sum(axis=0)\n",
    "    expected_false_neg_1_cost = false_neg_1_cost.mean()\n",
    "    \n",
    "    false_neg_2_cost = false_neg_2_cost.sum(axis=0)\n",
    "    expected_false_neg_2_cost = false_neg_2_cost.mean()\n",
    "    \n",
    "    untreated_1_cost = untreated_1_cost.sum(axis=0)\n",
    "    expected_untreated_1_cost = untreated_1_cost.mean()\n",
    "    \n",
    "    untreated_2_cost = untreated_2_cost.sum(axis=0)\n",
    "    expected_untreated_2_cost = untreated_2_cost.mean()\n",
    "    \n",
    "    total_cost = vaccine_cost + intervention_cost + expected_false_neg_1_cost + expected_false_neg_2_cost + expected_untreated_1_cost + expected_untreated_2_cost\n",
    "    \n",
    "    return total_cost"
   ]
  },
  {
   "cell_type": "markdown",
   "metadata": {},
   "source": [
    "We're just going to take the weighted logistic model, again, and tune the regularization parameter to both beat the benchmark on the observed data and minimize expected cost on unseen data (i.e. prevent ***overfitting***). Instead of using 'balanced' class weights, we're using a custom weighting scheme for the three classes (this parameter should really be tuned!).\n",
    "\n",
    "It would probally also be go through the whole \"choosing a model, tuning these models\"-process again, this time to minimize cost.\n",
    "\n",
    "**Note:** Be aware that the cost is now sensitive to sample size! The smaller the pool of patients the less the cost. If you are evaluating cost on a held-out test set then you can artificially make the cost very small. The benchmarks we give are for the entire training set."
   ]
  },
  {
   "cell_type": "code",
   "execution_count": 22,
   "metadata": {
    "collapsed": true
   },
   "outputs": [],
   "source": [
    "x = df.values[:, :-2]\n",
    "y = df.values[:, -1]\n",
    "y = y - 1\n",
    "\n",
    "x_test = df_test.values[:, :-2]\n",
    "y_test = df_test.values[:, -1]\n",
    "\n",
    "y_test = y_test - 1"
   ]
  },
  {
   "cell_type": "code",
   "execution_count": 23,
   "metadata": {
    "collapsed": true
   },
   "outputs": [],
   "source": [
    "score = lambda model, x_test, y_test: pd.Series([model.score(x_test, y_test), \n",
    "                                                 model.score(x_test[y_test==0], y_test[y_test==0]),\n",
    "                                                 model.score(x_test[y_test==1], y_test[y_test==1]), \n",
    "                                                 model.score(x_test[y_test==2], y_test[y_test==2]), \n",
    "                                                 cost(y_test, model.predict(x_test))],\n",
    "                                                index=['overall accuracy', 'accuracy on class 0', 'accuracy on class 1', 'accuracy on class 2', 'total cost'])"
   ]
  },
  {
   "cell_type": "code",
   "execution_count": 25,
   "metadata": {
    "collapsed": false
   },
   "outputs": [
    {
     "name": "stdout",
     "output_type": "stream",
     "text": [
      "C: 0.001\n",
      "C: 0.01\n",
      "C: 0.1\n",
      "C: 1.0\n",
      "C: 10.0\n",
      "C: 100.0\n",
      "C: 1000.0\n"
     ]
    }
   ],
   "source": [
    "Cs = 10.**np.arange(-3, 4, 1)\n",
    "scores = []\n",
    "for C in Cs:\n",
    "    print('C:', C)\n",
    "    weighted_log_scores = np.array([0., 0., 0., 0., 0.])\n",
    "    kf = KFold(len(x), n_folds=10, shuffle=True, random_state=10)\n",
    "    for train_index, test_index in kf:\n",
    "        x_validate_train, x_validate_test = x[train_index], x[test_index]\n",
    "        y_validate_train, y_validate_test = y[train_index], y[test_index]\n",
    "\n",
    "        weighted_logistic = LogisticRegression(C=C, class_weight={0:0.7, 1:10, 2:10})\n",
    "        weighted_logistic.fit(x_validate_train, y_validate_train)\n",
    "\n",
    "        weighted_log_scores += score(weighted_logistic, x_validate_test, y_validate_test).values\n",
    "\n",
    "    scores.append(weighted_log_scores / 10.)\n",
    "\n",
    "scores = pd.DataFrame(np.array(scores).T, columns=[str(C) for C in Cs], index=['overall accuracy', 'accuracy on class 0', 'accuracy on class 1', 'accuracy on class 2', 'total cost'])"
   ]
  },
  {
   "cell_type": "code",
   "execution_count": 70,
   "metadata": {
    "collapsed": false
   },
   "outputs": [
    {
     "data": {
      "text/html": [
       "<div>\n",
       "<table border=\"1\" class=\"dataframe\">\n",
       "  <thead>\n",
       "    <tr style=\"text-align: right;\">\n",
       "      <th></th>\n",
       "      <th>0.001</th>\n",
       "      <th>0.01</th>\n",
       "      <th>0.1</th>\n",
       "      <th>1.0</th>\n",
       "      <th>10.0</th>\n",
       "      <th>100.0</th>\n",
       "      <th>1000.0</th>\n",
       "    </tr>\n",
       "  </thead>\n",
       "  <tbody>\n",
       "    <tr>\n",
       "      <th>overall accuracy</th>\n",
       "      <td>0.930429</td>\n",
       "      <td>0.928141</td>\n",
       "      <td>0.929476</td>\n",
       "      <td>0.928904</td>\n",
       "      <td>0.928714</td>\n",
       "      <td>0.929096</td>\n",
       "      <td>0.929095</td>\n",
       "    </tr>\n",
       "    <tr>\n",
       "      <th>accuracy on class 0</th>\n",
       "      <td>0.984596</td>\n",
       "      <td>0.981556</td>\n",
       "      <td>0.982162</td>\n",
       "      <td>0.982772</td>\n",
       "      <td>0.982165</td>\n",
       "      <td>0.981959</td>\n",
       "      <td>0.981950</td>\n",
       "    </tr>\n",
       "    <tr>\n",
       "      <th>accuracy on class 1</th>\n",
       "      <td>0.069623</td>\n",
       "      <td>0.076190</td>\n",
       "      <td>0.084405</td>\n",
       "      <td>0.069524</td>\n",
       "      <td>0.070119</td>\n",
       "      <td>0.080952</td>\n",
       "      <td>0.082894</td>\n",
       "    </tr>\n",
       "    <tr>\n",
       "      <th>accuracy on class 2</th>\n",
       "      <td>0.074134</td>\n",
       "      <td>0.105087</td>\n",
       "      <td>0.139177</td>\n",
       "      <td>0.083225</td>\n",
       "      <td>0.108983</td>\n",
       "      <td>0.133983</td>\n",
       "      <td>0.124892</td>\n",
       "    </tr>\n",
       "    <tr>\n",
       "      <th>total cost</th>\n",
       "      <td>658563.900000</td>\n",
       "      <td>658571.850000</td>\n",
       "      <td>652914.050000</td>\n",
       "      <td>658370.650000</td>\n",
       "      <td>654790.300000</td>\n",
       "      <td>651038.850000</td>\n",
       "      <td>654992.250000</td>\n",
       "    </tr>\n",
       "  </tbody>\n",
       "</table>\n",
       "</div>"
      ],
      "text/plain": [
       "                             0.001           0.01            0.1  \\\n",
       "overall accuracy          0.930429       0.928141       0.929476   \n",
       "accuracy on class 0       0.984596       0.981556       0.982162   \n",
       "accuracy on class 1       0.069623       0.076190       0.084405   \n",
       "accuracy on class 2       0.074134       0.105087       0.139177   \n",
       "total cost           658563.900000  658571.850000  652914.050000   \n",
       "\n",
       "                               1.0           10.0          100.0  \\\n",
       "overall accuracy          0.928904       0.928714       0.929096   \n",
       "accuracy on class 0       0.982772       0.982165       0.981959   \n",
       "accuracy on class 1       0.069524       0.070119       0.080952   \n",
       "accuracy on class 2       0.083225       0.108983       0.133983   \n",
       "total cost           658370.650000  654790.300000  651038.850000   \n",
       "\n",
       "                            1000.0  \n",
       "overall accuracy          0.929095  \n",
       "accuracy on class 0       0.981950  \n",
       "accuracy on class 1       0.082894  \n",
       "accuracy on class 2       0.124892  \n",
       "total cost           654992.250000  "
      ]
     },
     "execution_count": 70,
     "metadata": {},
     "output_type": "execute_result"
    }
   ],
   "source": [
    "scores"
   ]
  },
  {
   "cell_type": "code",
   "execution_count": 76,
   "metadata": {
    "collapsed": false
   },
   "outputs": [
    {
     "data": {
      "text/plain": [
       "overall accuracy             0.933473\n",
       "accuracy on class 0          0.985008\n",
       "accuracy on class 1          0.092511\n",
       "accuracy on class 2          0.168675\n",
       "total cost             6286907.000000\n",
       "dtype: float64"
      ]
     },
     "execution_count": 76,
     "metadata": {},
     "output_type": "execute_result"
    }
   ],
   "source": [
    "#Weighted logistic regression\n",
    "weighted_logistic = LogisticRegression(C=100, class_weight={0:0.7, 1:10, 2:10})\n",
    "weighted_logistic.fit(x, y)\n",
    "weighted_log_scores = score(weighted_logistic, x, y)\n",
    "weighted_log_scores"
   ]
  },
  {
   "cell_type": "code",
   "execution_count": 77,
   "metadata": {
    "collapsed": false
   },
   "outputs": [
    {
     "data": {
      "text/plain": [
       "overall accuracy             0.802348\n",
       "accuracy on class 0          0.985390\n",
       "accuracy on class 1          0.064677\n",
       "accuracy on class 2          0.030000\n",
       "total cost             6341513.500000\n",
       "dtype: float64"
      ]
     },
     "execution_count": 77,
     "metadata": {},
     "output_type": "execute_result"
    }
   ],
   "source": [
    "#Weighted logistic regression\n",
    "weighted_log_scores = score(weighted_logistic, x_test, y_test)\n",
    "weighted_log_scores"
   ]
  },
  {
   "cell_type": "code",
   "execution_count": 26,
   "metadata": {
    "collapsed": false
   },
   "outputs": [
    {
     "name": "stdout",
     "output_type": "stream",
     "text": [
      "minimimum cost on train: 1368840.0\n",
      "minimimum cost on test: 1277630.0\n"
     ]
    }
   ],
   "source": [
    "print('minimimum cost on train:', cost(y, y))\n",
    "print('minimimum cost on test:', cost(y_test, y_test))"
   ]
  },
  {
   "cell_type": "code",
   "execution_count": 27,
   "metadata": {
    "collapsed": false
   },
   "outputs": [
    {
     "name": "stdout",
     "output_type": "stream",
     "text": [
      "simple model cost on train: 6859750.5\n",
      "simple model cost on test: 6812989.0\n"
     ]
    }
   ],
   "source": [
    "print('simple model cost on train:', cost(y, np.array([0] * len(y))))\n",
    "print('simple model cost on test:', cost(y_test, np.array([0] * len(y_test))))"
   ]
  },
  {
   "cell_type": "code",
   "execution_count": 28,
   "metadata": {
    "collapsed": false
   },
   "outputs": [
    {
     "name": "stdout",
     "output_type": "stream",
     "text": [
      "simple model cost on train: 22326200.0\n",
      "simple model cost on test: 7037445.0\n"
     ]
    }
   ],
   "source": [
    "print('simple model cost on train:', cost(y, np.array([1] * len(y))))\n",
    "print('simple model cost on test:', cost(y_test, np.array([1] * len(y_test))))"
   ]
  },
  {
   "cell_type": "code",
   "execution_count": 29,
   "metadata": {
    "collapsed": false
   },
   "outputs": [
    {
     "name": "stdout",
     "output_type": "stream",
     "text": [
      "simple model cost on train: 24297163.5\n",
      "simple model cost on test: 8294454.0\n"
     ]
    }
   ],
   "source": [
    "print('simple model cost on train:', cost(y, np.array([2] * len(y))))\n",
    "print('simple model cost on test:', cost(y_test, np.array([2] * len(y_test))))"
   ]
  },
  {
   "cell_type": "markdown",
   "metadata": {},
   "source": [
    "Yay! We beat the benchmarks on the observed data and did pretty good on test data!"
   ]
  }
 ],
 "metadata": {
  "kernelspec": {
   "display_name": "Python 3",
   "language": "python",
   "name": "python3"
  },
  "language_info": {
   "codemirror_mode": {
    "name": "ipython",
    "version": 3
   },
   "file_extension": ".py",
   "mimetype": "text/x-python",
   "name": "python",
   "nbconvert_exporter": "python",
   "pygments_lexer": "ipython3",
   "version": "3.6.1"
  }
 },
 "nbformat": 4,
 "nbformat_minor": 0
}
