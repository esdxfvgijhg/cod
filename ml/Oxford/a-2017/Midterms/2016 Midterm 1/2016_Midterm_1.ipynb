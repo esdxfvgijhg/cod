{
 "cells": [
  {
   "cell_type": "markdown",
   "metadata": {},
   "source": [
    "# CS 109A/AC 209A/STAT 121A Data Science: Midterm #1 (October 2016)\n",
    "**Harvard University**<br>\n",
    "**Fall 2016**<br>\n",
    "**Instructors: W. Pan, P. Protopapas, K. Rader**<br>"
   ]
  },
  {
   "cell_type": "markdown",
   "metadata": {},
   "source": [
    "It is Oct 13, 2016. NASA’s radars discovered a small, 3 meter iron base meteorite, that just entered the Earth’s atmosphere. A small meteorite will not create a big devastation but still dangerous for the citizens. Local authorities would like to know the location of the impact point so they can warn people and allocate resources based on the population that is affected.\n",
    "The Governor has sought out the best data scientist in the state, you, to help save the day!\n",
    "\n",
    "You are given two datasets:\n",
    "- Radar position estimates (x,y,z; z being the altitude) of the meteorite at various times are released on a web page (URL [here](https://cs109alabs.github.io/lab_files/)). x,y and z are coordinates in kilometers and time is in seconds.\n",
    "- Locations and other details of every dwelling in the town can be found in the file *midtermbuildings.csv*.\n",
    "\n",
    "\n",
    "1. Using methods you learned in class estimate the expected point of impact along with the region with 90% certainty.\n",
    "2. Using the dwelling database, estimate the total number of people that will most likely be affected within this region.\n",
    "\n",
    "**AC209a students only**: Additional measurements from another radar are released in the file *midterm_a_r2_d1.csv*. The accuracy of this radar is approximately 5 times higher than the first radar. Your model should take into account radar data sets."
   ]
  },
  {
   "cell_type": "code",
   "execution_count": null,
   "metadata": {
    "collapsed": true
   },
   "outputs": [],
   "source": [
    "# Your code here..."
   ]
  }
 ],
 "metadata": {
  "kernelspec": {
   "display_name": "Python 3",
   "language": "python",
   "name": "python3"
  },
  "language_info": {
   "codemirror_mode": {
    "name": "ipython",
    "version": 3
   },
   "file_extension": ".py",
   "mimetype": "text/x-python",
   "name": "python",
   "nbconvert_exporter": "python",
   "pygments_lexer": "ipython3",
   "version": "3.6.1"
  }
 },
 "nbformat": 4,
 "nbformat_minor": 0
}
