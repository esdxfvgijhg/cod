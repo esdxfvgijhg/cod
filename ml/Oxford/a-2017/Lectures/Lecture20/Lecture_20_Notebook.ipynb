{
 "cells": [
  {
   "cell_type": "markdown",
   "metadata": {},
   "source": [
    "# Lecture 19: SVM 2\n",
    "\n",
    "### Data Science 1: CS 109A/STAT 121A/AC 209A/ E 109A <br> Instructors: Pavlos Protopapas, Kevin Rader, Rahul Dave\n",
    "#### Harvard University <br> Fall 2017 <br> \n",
    "\n",
    "---\n"
   ]
  },
  {
   "cell_type": "markdown",
   "metadata": {},
   "source": [
    "Import libraries"
   ]
  },
  {
   "cell_type": "code",
   "execution_count": null,
   "metadata": {
    "collapsed": true,
    "scrolled": true
   },
   "outputs": [],
   "source": [
    "import pandas as pd\n",
    "import sys\n",
    "import numpy as np\n",
    "import scipy as sp\n",
    "import statsmodels as sm\n",
    "import matplotlib.pyplot as plt\n",
    "import seaborn as sns\n",
    "from sklearn.preprocessing import MinMaxScaler\n",
    "from sklearn.model_selection import KFold\n",
    "from sklearn.linear_model import LinearRegression\n",
    "from sklearn.linear_model import Ridge\n",
    "from sklearn.linear_model import LogisticRegression\n",
    "from sklearn.linear_model import Lasso\n",
    "from sklearn.preprocessing import PolynomialFeatures\n",
    "from sklearn.neighbors import KNeighborsRegressor\n",
    "from sklearn.decomposition import PCA\n",
    "from sklearn import tree\n",
    "from sklearn import ensemble\n",
    "from sklearn.tree import DecisionTreeClassifier\n",
    "from sklearn import svm\n",
    "sns.set(style=\"ticks\")\n",
    "%matplotlib inline\n",
    "\n",
    "%matplotlib inline"
   ]
  },
  {
   "cell_type": "markdown",
   "metadata": {},
   "source": [
    "### Read in the data"
   ]
  },
  {
   "cell_type": "code",
   "execution_count": null,
   "metadata": {},
   "outputs": [],
   "source": [
    "# Load dataset_1\n",
    "data_bone = pd.read_csv('bone.csv', delimiter=',')\n",
    "data_bone.head()"
   ]
  },
  {
   "cell_type": "code",
   "execution_count": null,
   "metadata": {},
   "outputs": [],
   "source": [
    "#creating the bone density measures for each group\n",
    "controlgroup = data_bone['bone density'][data_bone['group']=='Control']\n",
    "trt1group = data_bone['bone density'][data_bone['group']=='Lowjump']\n",
    "trt2group = data_bone['bone density'][data_bone['group']=='Highjump']\n",
    "\n",
    "#two sample t-test\n",
    "sp.stats.ttest_ind(controlgroup,trt1group)"
   ]
  },
  {
   "cell_type": "code",
   "execution_count": null,
   "metadata": {},
   "outputs": [],
   "source": [
    "#ANOVA F-test\n",
    "sp.stats.f_oneway(controlgroup,trt1group,trt2group)"
   ]
  },
  {
   "cell_type": "code",
   "execution_count": null,
   "metadata": {},
   "outputs": [],
   "source": [
    "#creating indicator variables for each group\n",
    "ybar = np.mean(data_bone['bone density'])\n",
    "\n",
    "controlgroup_ind = 1*(data_bone['bone density'][data_bone['group']=='Control']>ybar)\n",
    "trt1group_ind = 1*(data_bone['bone density'][data_bone['group']=='Lowjump']>ybar)\n",
    "trt2group_ind = 1*(data_bone['bone density'][data_bone['group']=='Highjump']>ybar)\n",
    "\n",
    "mytable = pd.crosstab(data_bone['group'],data_bone['bone density']>ybar)\n",
    "\n",
    "\n",
    "sp.stats.chi2_contingency(mytable)\n"
   ]
  },
  {
   "cell_type": "code",
   "execution_count": null,
   "metadata": {},
   "outputs": [],
   "source": [
    "#Fisher Exact test\n",
    "mytable = pd.crosstab(data_bone['group'],data_bone['bone density']>ybar)\n",
    "\n",
    "sp.stats.fisher_exact(mytable)"
   ]
  },
  {
   "cell_type": "code",
   "execution_count": null,
   "metadata": {
    "collapsed": true
   },
   "outputs": [],
   "source": []
  }
 ],
 "metadata": {
  "anaconda-cloud": {},
  "kernelspec": {
   "display_name": "Python 3",
   "language": "python",
   "name": "python3"
  },
  "language_info": {
   "codemirror_mode": {
    "name": "ipython",
    "version": 3
   },
   "file_extension": ".py",
   "mimetype": "text/x-python",
   "name": "python",
   "nbconvert_exporter": "python",
   "pygments_lexer": "ipython3",
   "version": "3.6.1"
  },
  "latex_envs": {
   "bibliofile": "biblio.bib",
   "cite_by": "apalike",
   "current_citInitial": 1,
   "eqLabelWithNumbers": true,
   "eqNumInitial": 0
  }
 },
 "nbformat": 4,
 "nbformat_minor": 1
}
