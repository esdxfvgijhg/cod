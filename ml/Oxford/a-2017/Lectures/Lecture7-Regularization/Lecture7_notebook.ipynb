{
 "cells": [
  {
   "cell_type": "markdown",
   "metadata": {},
   "source": [
    "# Lecture 7:  Regularization\n",
    "### Data Science 1: CS 109A/STAT 121A/AC 209A/ E 109A <br> Instructors: Pavlos Protopapas, Kevin Rader, Rahul Dave, Margo Levine\n",
    "#### Harvard University <br> Fall 2017 <br> \n",
    "\n",
    "---\n"
   ]
  },
  {
   "cell_type": "code",
   "execution_count": 1,
   "metadata": {
    "collapsed": false
   },
   "outputs": [
    {
     "name": "stderr",
     "output_type": "stream",
     "text": [
      "/anaconda/lib/python3.6/site-packages/statsmodels/compat/pandas.py:56: FutureWarning: The pandas.core.datetools module is deprecated and will be removed in a future version. Please use the pandas.tseries module instead.\n",
      "  from pandas.core import datetools\n"
     ]
    }
   ],
   "source": [
    "import pandas as pd\n",
    "import sys\n",
    "import numpy as np\n",
    "import scipy as sp\n",
    "import matplotlib.pyplot as plt\n",
    "import statsmodels.api as sm\n",
    "from statsmodels.tools import add_constant\n",
    "from statsmodels.regression.linear_model import RegressionResults\n",
    "import seaborn as sns\n",
    "import sklearn as sk\n",
    "from sklearn.preprocessing import MinMaxScaler\n",
    "from sklearn.model_selection import KFold\n",
    "from sklearn.linear_model import LinearRegression\n",
    "from sklearn.linear_model import Ridge\n",
    "from sklearn.linear_model import Lasso\n",
    "from sklearn.preprocessing import PolynomialFeatures\n",
    "from sklearn.neighbors import KNeighborsRegressor\n",
    "sns.set(style=\"ticks\")\n",
    "%matplotlib inline"
   ]
  },
  {
   "cell_type": "code",
   "execution_count": 2,
   "metadata": {
    "collapsed": false
   },
   "outputs": [],
   "source": [
    "nyc_cab_df = pd.read_csv('data/nyc_car_hire_data.csv', low_memory=False)"
   ]
  },
  {
   "cell_type": "code",
   "execution_count": 24,
   "metadata": {
    "collapsed": true
   },
   "outputs": [],
   "source": [
    "def train_test_split(df, n_samples, validation=False):\n",
    "    if validation:\n",
    "        nyc_cab_sample = df.sample(n=n_samples)\n",
    "\n",
    "        nyc_cab_sample['lpep_pickup_datetime'] = nyc_cab_sample['lpep_pickup_datetime'].apply(lambda dt: pd.to_datetime(dt).hour)\n",
    "        nyc_cab_sample['Lpep_dropoff_datetime'] = nyc_cab_sample['Lpep_dropoff_datetime'].apply(lambda dt: pd.to_datetime(dt).hour)\n",
    "\n",
    "        msk = np.random.rand(len(nyc_cab_sample)) < 0.8\n",
    "        non_test = nyc_cab_sample[msk]\n",
    "        test = nyc_cab_sample[~msk]\n",
    "        \n",
    "        msk = np.random.rand(len(non_test)) < 0.7\n",
    "        train = non_test[msk]\n",
    "        validation = non_test[~msk]\n",
    "        \n",
    "        return train, validation, test\n",
    "    \n",
    "    else:\n",
    "        nyc_cab_sample = df.sample(n=n_samples)\n",
    "\n",
    "        nyc_cab_sample['lpep_pickup_datetime'] = nyc_cab_sample['lpep_pickup_datetime'].apply(lambda dt: pd.to_datetime(dt).hour)\n",
    "        nyc_cab_sample['Lpep_dropoff_datetime'] = nyc_cab_sample['Lpep_dropoff_datetime'].apply(lambda dt: pd.to_datetime(dt).hour)\n",
    "\n",
    "        msk = np.random.rand(len(nyc_cab_sample)) < 0.8\n",
    "        train = nyc_cab_sample[msk]\n",
    "        test = nyc_cab_sample[~msk]\n",
    "\n",
    "        return train, test"
   ]
  },
  {
   "cell_type": "markdown",
   "metadata": {},
   "source": [
    "---"
   ]
  },
  {
   "cell_type": "markdown",
   "metadata": {},
   "source": [
    "## Comparing Ridge and LASSO Regression"
   ]
  },
  {
   "cell_type": "code",
   "execution_count": 25,
   "metadata": {
    "collapsed": false
   },
   "outputs": [],
   "source": [
    "train, validation, test = train_test_split(nyc_cab_df, 5000, validation=True)\n",
    "\n",
    "y_train = train['Fare_amount'].values\n",
    "y_val = validation['Fare_amount'].values\n",
    "y_test = test['Fare_amount'].values\n",
    "\n",
    "regression_model = LinearRegression(fit_intercept=True)\n",
    "\n",
    "all_predictors = ['Trip Length (min)', 'Type', 'Trip_distance', 'TMAX', 'TMIN', 'lpep_pickup_datetime', 'Lpep_dropoff_datetime', 'Pickup_longitude', 'Pickup_latitude', 'SNOW', 'SNWD', 'PRCP']"
   ]
  },
  {
   "cell_type": "markdown",
   "metadata": {},
   "source": [
    "### 1. Variable Selection: Backwards Using AIC"
   ]
  },
  {
   "cell_type": "code",
   "execution_count": 27,
   "metadata": {
    "collapsed": false
   },
   "outputs": [],
   "source": [
    "def get_aic(X_train, y_train):\n",
    "    X_train = add_constant(X_train)\n",
    "    model = sm.OLS(y_train, X_train).fit()\n",
    "    return model.aic\n",
    "\n",
    "X_train = train[all_predictors].values\n",
    "predictors = [(all_predictors, get_aic(X_train, y_train))]\n",
    "\n",
    "for k in range(len(all_predictors), 1, -1):\n",
    "    best_k_predictors = predictors[-1][0]\n",
    "    aics = []\n",
    "    \n",
    "    for predictor in best_k_predictors:\n",
    "        k_minus_1 = list(set(best_k_predictors) - set([predictor]))\n",
    "        X_train = train[k_minus_1].values\n",
    "\n",
    "        aics.append(get_aic(X_train, y_train))\n",
    "    \n",
    "    best_k_minus_1 = list(set(best_k_predictors) - set([best_k_predictors[np.argmin(aics)]]))\n",
    "    predictors.append((best_k_minus_1, np.min(aics)))\n",
    "    \n",
    "best_predictor_set = sorted(predictors, key=lambda t: t[1])[-1]\n"
   ]
  },
  {
   "cell_type": "code",
   "execution_count": 28,
   "metadata": {
    "collapsed": false
   },
   "outputs": [
    {
     "name": "stdout",
     "output_type": "stream",
     "text": [
      "best predictor set: ['lpep_pickup_datetime', 'Trip_distance', 'Trip Length (min)', 'Type', 'SNWD', 'SNOW']\n",
      "aic: 15308.456891052894\n",
      "test R^2: 0.7896078581232107\n"
     ]
    }
   ],
   "source": [
    "best_predictor_set = sorted(predictors, key=lambda t: t[1])[0]\n",
    "\n",
    "X_train = train[best_predictor_set[0]].values\n",
    "X_val = validation[best_predictor_set[0]].values  \n",
    "X_test = test[best_predictor_set[0]].values  \n",
    "regression_model.fit(np.vstack((X_train, X_val)), np.hstack((y_train, y_val)))\n",
    "\n",
    "print('best predictor set: {}\\naic: {}\\ntest R^2: {}'.format(best_predictor_set[0], best_predictor_set[1], regression_model.score(X_test, y_test)))"
   ]
  },
  {
   "cell_type": "markdown",
   "metadata": {},
   "source": [
    "### 2. Ridge Regression"
   ]
  },
  {
   "cell_type": "code",
   "execution_count": 33,
   "metadata": {
    "collapsed": false
   },
   "outputs": [
    {
     "name": "stdout",
     "output_type": "stream",
     "text": [
      "Ridge regression model:\n",
      " 1.1203446112390303 + [  3.01373329e-01   9.00351806e+00   2.06750603e+00  -1.14801248e-02\n",
      "   4.23355593e-03   2.02290609e-02  -6.97961547e-03   4.74016520e-01\n",
      "   9.06460927e-01   0.00000000e+00   0.00000000e+00  -9.84083386e-02]^T . x\n"
     ]
    }
   ],
   "source": [
    "X_train = train[all_predictors].values\n",
    "X_val = validation[all_predictors].values\n",
    "X_test = test[all_predictors].values\n",
    "\n",
    "ridge_regression = Ridge(alpha=1.0, fit_intercept=True)\n",
    "ridge_regression.fit(np.vstack((X_train, X_val)), np.hstack((y_train, y_val)))\n",
    "\n",
    "print('Ridge regression model:\\n {} + {}^T . x'.format(ridge_regression.intercept_, ridge_regression.coef_))"
   ]
  },
  {
   "cell_type": "code",
   "execution_count": 34,
   "metadata": {
    "collapsed": false
   },
   "outputs": [
    {
     "name": "stdout",
     "output_type": "stream",
     "text": [
      "Train R^2: 0.8128187525312068, test R^2: 0.7894042287406281\n"
     ]
    }
   ],
   "source": [
    "print('Train R^2: {}, test R^2: {}'.format(ridge_regression.score(np.vstack((X_train, X_val)), \n",
    "                                                                  np.hstack((y_train, y_val))), \n",
    "                                           ridge_regression.score(X_test, y_test)))"
   ]
  },
  {
   "cell_type": "markdown",
   "metadata": {},
   "source": [
    "### 3. LASSO Regression"
   ]
  },
  {
   "cell_type": "code",
   "execution_count": 35,
   "metadata": {
    "collapsed": false
   },
   "outputs": [
    {
     "name": "stdout",
     "output_type": "stream",
     "text": [
      "Lasso regression model:\n",
      " 4.930863668592476 + [  2.92178998e-01   4.09638866e+00   1.91699827e+00  -7.39241744e-03\n",
      "  -0.00000000e+00   3.79642192e-03   5.70222315e-03  -0.00000000e+00\n",
      "   0.00000000e+00   0.00000000e+00   0.00000000e+00   0.00000000e+00]^T . x\n"
     ]
    }
   ],
   "source": [
    "lasso_regression = Lasso(alpha=1.0, fit_intercept=True)\n",
    "lasso_regression.fit(np.vstack((X_train, X_val)), np.hstack((y_train, y_val)))\n",
    "\n",
    "print('Lasso regression model:\\n {} + {}^T . x'.format(lasso_regression.intercept_, lasso_regression.coef_))"
   ]
  },
  {
   "cell_type": "code",
   "execution_count": 36,
   "metadata": {
    "collapsed": false
   },
   "outputs": [
    {
     "name": "stdout",
     "output_type": "stream",
     "text": [
      "Train R^2: 0.7495825495598774, test R^2: 0.7328914661774865\n"
     ]
    }
   ],
   "source": [
    "print('Train R^2: {}, test R^2: {}'.format(lasso_regression.score(np.vstack((X_train, X_val)), \n",
    "                                                                  np.hstack((y_train, y_val))), \n",
    "                                           lasso_regression.score(X_test, y_test)))"
   ]
  },
  {
   "cell_type": "markdown",
   "metadata": {},
   "source": [
    "---"
   ]
  },
  {
   "cell_type": "markdown",
   "metadata": {},
   "source": [
    "## The Effect of the Regularization Parameter"
   ]
  },
  {
   "cell_type": "code",
   "execution_count": 37,
   "metadata": {
    "collapsed": false
   },
   "outputs": [],
   "source": [
    "reg_params = np.hstack((10.**np.arange(-7, 0), 10**np.arange(0, 4) + 0.01))"
   ]
  },
  {
   "cell_type": "markdown",
   "metadata": {},
   "source": [
    "### 1. Ridge Regression"
   ]
  },
  {
   "cell_type": "code",
   "execution_count": 38,
   "metadata": {
    "collapsed": false
   },
   "outputs": [],
   "source": [
    "train_R_sq = []\n",
    "test_R_sq = []\n",
    "\n",
    "for reg in reg_params:\n",
    "    ridge_regression = Ridge(alpha=reg, fit_intercept=True)\n",
    "    ridge_regression.fit(np.vstack((X_train, X_val)), np.hstack((y_train, y_val)))\n",
    "    \n",
    "    train_R_sq.append(ridge_regression.score(np.vstack((X_train, X_val)), np.hstack((y_train, y_val))))\n",
    "    test_R_sq.append(ridge_regression.score(X_test, y_test))"
   ]
  },
  {
   "cell_type": "code",
   "execution_count": 39,
   "metadata": {
    "collapsed": false
   },
   "outputs": [
    {
     "data": {
      "image/png": "[encoded data removed]",
      "text/plain": [
       "<matplotlib.figure.Figure at 0x11a43f240>"
      ]
     },
     "metadata": {},
     "output_type": "display_data"
    }
   ],
   "source": [
    "fig, ax = plt.subplots(1, 1, figsize=(5, 5))\n",
    "\n",
    "ax.plot(reg_params, train_R_sq, color='blue', label='train')\n",
    "ax.plot(reg_params, test_R_sq, color='red', label='test')\n",
    "\n",
    "ax.set_xscale('log')\n",
    "ax.set_title('Regularization Parameter vs Test R^2')\n",
    "ax.set_xlabel('Value of 1/lambda')\n",
    "ax.set_ylabel('R^2')\n",
    "ax.legend(loc='best')\n",
    "\n",
    "plt.show()"
   ]
  },
  {
   "cell_type": "markdown",
   "metadata": {},
   "source": [
    "### 2. LASSO Regression"
   ]
  },
  {
   "cell_type": "code",
   "execution_count": 40,
   "metadata": {
    "collapsed": false
   },
   "outputs": [
    {
     "name": "stderr",
     "output_type": "stream",
     "text": [
      "/anaconda/lib/python3.6/site-packages/sklearn/linear_model/coordinate_descent.py:484: ConvergenceWarning: Objective did not converge. You might want to increase the number of iterations. Fitting data with very small alpha may cause precision problems.\n",
      "  ConvergenceWarning)\n"
     ]
    }
   ],
   "source": [
    "train_R_sq = []\n",
    "test_R_sq = []\n",
    "\n",
    "for reg in reg_params:\n",
    "    lasso_regression = Lasso(alpha=reg, fit_intercept=True)\n",
    "    lasso_regression.fit(np.vstack((X_train, X_val)), np.hstack((y_train, y_val)))\n",
    "    \n",
    "    train_R_sq.append(lasso_regression.score(np.vstack((X_train, X_val)), np.hstack((y_train, y_val))))\n",
    "    test_R_sq.append(lasso_regression.score(X_test, y_test))"
   ]
  },
  {
   "cell_type": "code",
   "execution_count": 41,
   "metadata": {
    "collapsed": false
   },
   "outputs": [
    {
     "data": {
      "image/png": "[encoded data removed]",
      "text/plain": [
       "<matplotlib.figure.Figure at 0x1160b7b00>"
      ]
     },
     "metadata": {},
     "output_type": "display_data"
    }
   ],
   "source": [
    "fig, ax = plt.subplots(1, 1, figsize=(5, 5))\n",
    "\n",
    "ax.plot(reg_params, train_R_sq, color='blue', label='train')\n",
    "ax.plot(reg_params, test_R_sq, color='red', label='test')\n",
    "\n",
    "ax.set_xscale('log')\n",
    "ax.set_title('Regularization Parameter vs Test R^2')\n",
    "ax.set_xlabel('Value of 1/lambda')\n",
    "ax.set_ylabel('R^2')\n",
    "ax.legend(loc='best')\n",
    "\n",
    "plt.show()"
   ]
  },
  {
   "cell_type": "markdown",
   "metadata": {},
   "source": [
    "---"
   ]
  },
  {
   "cell_type": "markdown",
   "metadata": {},
   "source": [
    "## Cross Validation: Selecting the Regularization Parameter"
   ]
  },
  {
   "cell_type": "code",
   "execution_count": 42,
   "metadata": {
    "collapsed": false
   },
   "outputs": [],
   "source": [
    "X_non_test = np.vstack((X_train, X_val))\n",
    "y_non_test = np.hstack((y_train, y_val))\n",
    "\n",
    "\n",
    "kf = KFold(n_splits=10)\n",
    "\n",
    "x_val_scores = []\n",
    "\n",
    "for reg in reg_params:\n",
    "    ridge_regression = Ridge(alpha=reg, fit_intercept=True)\n",
    "    \n",
    "    validation_R_sqs = []\n",
    "    for train_index, val_index in kf.split(X_non_test):\n",
    "        X_train, X_val = X_non_test[train_index], X_non_test[val_index]\n",
    "        y_train, y_val = y_non_test[train_index], y_non_test[val_index]\n",
    "\n",
    "        \n",
    "        ridge_regression.fit(X_train, y_train)\n",
    "        validation_R_sqs.append(ridge_regression.score(X_val, y_val))\n",
    "        \n",
    "    x_val_scores.append(np.mean(validation_R_sqs))"
   ]
  },
  {
   "cell_type": "code",
   "execution_count": 43,
   "metadata": {
    "collapsed": false
   },
   "outputs": [
    {
     "data": {
      "image/png": "[encoded data removed]",
      "text/plain": [
       "<matplotlib.figure.Figure at 0x11a4aa048>"
      ]
     },
     "metadata": {},
     "output_type": "display_data"
    }
   ],
   "source": [
    "fig, ax = plt.subplots(1, 1, figsize=(5, 5))\n",
    "\n",
    "ax.plot(reg_params, x_val_scores, color='blue')\n",
    "\n",
    "ax.set_xscale('log')\n",
    "ax.set_title('Regularization Strength vs Cross Validation Score')\n",
    "ax.set_xlabel('Strength of Regularization')\n",
    "ax.set_ylabel('Cross Validation Score')\n",
    "\n",
    "plt.show()"
   ]
  },
  {
   "cell_type": "code",
   "execution_count": 45,
   "metadata": {
    "collapsed": false
   },
   "outputs": [
    {
     "name": "stdout",
     "output_type": "stream",
     "text": [
      "best regularization param is: 1.01\n",
      "the test R^2 for ridge regression with alpha = 1.01 is: 0.7894042889295461\n"
     ]
    }
   ],
   "source": [
    "best_alpha = reg_params[np.argmax(x_val_scores)]\n",
    "\n",
    "ridge_regression = Ridge(alpha=best_alpha, fit_intercept=True)\n",
    "ridge_regression.fit(X_non_test, y_non_test)\n",
    "test_R_sq = (ridge_regression.score(X_test, y_test))\n",
    "\n",
    "print('best regularization param is:', best_alpha)\n",
    "print('the test R^2 for ridge regression with alpha = {} is: {}'.format(best_alpha, test_R_sq))"
   ]
  },
  {
   "cell_type": "code",
   "execution_count": null,
   "metadata": {
    "collapsed": true
   },
   "outputs": [],
   "source": []
  },
  {
   "cell_type": "code",
   "execution_count": null,
   "metadata": {
    "collapsed": true
   },
   "outputs": [],
   "source": []
  }
 ],
 "metadata": {
  "anaconda-cloud": {},
  "kernelspec": {
   "display_name": "Python 3",
   "language": "python",
   "name": "python3"
  },
  "language_info": {
   "codemirror_mode": {
    "name": "ipython",
    "version": 3
   },
   "file_extension": ".py",
   "mimetype": "text/x-python",
   "name": "python",
   "nbconvert_exporter": "python",
   "pygments_lexer": "ipython3",
   "version": "3.6.0"
  }
 },
 "nbformat": 4,
 "nbformat_minor": 1
}
