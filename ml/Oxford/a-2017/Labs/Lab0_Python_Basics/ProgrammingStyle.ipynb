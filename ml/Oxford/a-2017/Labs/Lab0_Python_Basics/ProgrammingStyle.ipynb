{
  "metadata": {
    "anaconda-cloud": {},
    "kernelspec": {
      "display_name": "Python 3",
      "language": "python",
      "name": "python3"
    },
    "language_info": {
      "codemirror_mode": {
        "name": "ipython",
        "version": 3
      },
      "file_extension": ".py",
      "mimetype": "text/x-python",
      "name": "python",
      "nbconvert_exporter": "python",
      "pygments_lexer": "ipython3",
      "version": "3.6.1"
    }
  },
  "nbformat": 4,
  "nbformat_minor": 1,
  "cells": [
    {
      "cell_type": "markdown",
      "metadata": {},
      "source": [
        "### CS 109A/STAT 121A/AC 209A/CSCI E-109A\n",
        "\n",
        "# Programming Style: Illustrated with an example\n",
        "\n",
        "**Harvard University**<br/>\n",
        "**Fall 2017**<br/>\n",
        "**Instructors**: Pavlos Protopapas, Kevin Rader, Rahul Dave, Margo Levine\n",
        "\n",
        "---"
      ]
    },
    {
      "cell_type": "code",
      "execution_count": 1,
      "metadata": {
        "collapsed": true
      },
      "outputs": [],
      "source": [
        "# IPython, the interactive python shell used by the Notebook, has a set of predefined \u2018magic functions'\n",
        "# that you can call with a command line style syntax.\n",
        "# The following one is for asking the plotting library to draw inside the notebook, instead of on a separate window.\n",
        "# this line above prepares the jupyter notebook for working with matplotlib\n",
        "\n",
        "%matplotlib inline \n",
        "\n",
        "# Below is the set of most useful data science modules that you will need for your code\n",
        "# See all the \"as ...\" contructs? They're just aliasing the package names.\n",
        "# That way we can call methods like plt.plot() instead of matplotlib.pyplot.plot().\n",
        "# notice we use short aliases here, and these are conventional in the python community\n",
        "\n",
        "import numpy as np               # imports a fast numerical programming library\n",
        "import scipy as sp               # imports stats functions, amongst other things\n",
        "import matplotlib as mpl         # this actually imports matplotlib\n",
        "import matplotlib.cm as cm       # allows us easy access to colormaps\n",
        "import matplotlib.pyplot as plt  # sets up plotting under plt\n",
        "import pandas as pd              #lets us handle data as dataframes\n",
        "\n",
        "# sets up pandas table display\n",
        "pd.set_option('display.width', 500)\n",
        "pd.set_option('display.max_columns', 100)\n",
        "pd.set_option('display.notebook_repr_html', True)\n",
        "\n",
        "import seaborn as sns            # sets up styles and gives us more plotting options\n",
        "from bs4 import BeautifulSoup    # imports web parsing library https://www.crummy.com/software/BeautifulSoup/ "
      ]
    },
    {
      "cell_type": "markdown",
      "metadata": {},
      "source": [
        "## Python Best Practices\n",
        "\n",
        "Code readability is key, Python syntax itself is close to plain english.\n",
        "\n",
        "### Your variables, functions should be given descriptive identifiers!\n",
        "\n",
        "Identifiers for variables should be descriptive words separated by underscores (not spaces) and in all lower case. Classes can use CamelCase.\n",
        "\n",
        "BAD: `var6 = 25`, `AG3ofMoTh3R = 25`. GOOD : `age_of_mother = 25`\n",
        "\n",
        "Do this:\n",
        "```python\n",
        "def optimize_animals(cats, dogs):\n",
        "\treturn cats ** 2 + np.sqrt(dogs)\n",
        "```\n",
        "\n",
        "Not this:\n",
        "```python\n",
        "def feval(x, y):\n",
        "\treturn x**2+np.sqrt(y)\n",
        "```\n",
        "   \n",
        "### White Space\n",
        "\n",
        "You should use white space to increase readability. Apply spacing around operators, except in function calls and slices. Also insert newlines if that makes sense logically, perhaps with insightful comments.\n",
        "\n",
        "BAD: `x=[2,3,4]`, GOOD: `x = [2, 3, 4]`\n",
        "\n",
        "Do this:\n",
        "```python\n",
        "# Normalize x by adding 12\n",
        "x = x + 12  \n",
        "\n",
        "# Train on first 10 data points\n",
        "train(data[:10], bias=x)\n",
        "```\n",
        "Not this:\n",
        "```python\n",
        "x=x+12 #Add 12\n",
        "train( data[: 10], bias = x )\n",
        "```\n"
      ]
    },
    {
      "cell_type": "markdown",
      "metadata": {},
      "source": [
        "### Avoid name shadowing. \n",
        "\n",
        "Please use names that are different from built-in functions, so to make sure they can still be used.\n",
        "\n",
        "Do this:\n",
        "```python\n",
        "train_data = data[:10] \n",
        "max_iterations = 100\n",
        "```\n",
        "\n",
        "Not this:\n",
        "```python\n",
        "input = data[:10]  # Shadows input() function\n",
        "iter = 100  # Shadows iter() function\n",
        "```\n"
      ]
    },
    {
      "cell_type": "markdown",
      "metadata": {},
      "source": [
        "### Additional\n",
        "\n",
        "- You should liberally intersperse your code with comments!\n",
        "- Proper indentation is non-negotiable. Be consistent in what you use. In Python, indentation matters!\n",
        "- If possible, do not use map and reduce where you can also run a for-loop (unless your environment, like Spark, specifically requires it)\n",
        "- Be consistent with variable names across all your work through the semester. For example you might want to always write standard deviation as \u2018std_dev\u2019 or \u2018sigma\u2019.\n"
      ]
    },
    {
      "cell_type": "markdown",
      "metadata": {},
      "source": [
        "##  General Guidelines\n",
        "\n",
        "The general guideline for Python code is: try to stick by PEP8 as much as possible. The complete style guide is available here: https://www.python.org/dev/peps/pep-0008/. Please read this document: while we dont expect strict adherance to it, it will make your code readable by the entire python community.\n",
        "\n",
        "If you would like to adhere to it strictly, check out the code linter `flake8`. This is a tool that will complain if your code does not adhere to PEP8.\n",
        "\n",
        "The one place we differ is in writing documentation.  We will be using the `numpy` style guide instead. See  the [docstring section](https://github.com/numpy/numpy/blob/master/doc/HOWTO_DOCUMENT.rst.txt) of the `numpy` style guide. \n",
        "\n",
        "A question may arise: If you are expected to provide documentation in code-cells, what is the notebook markdown cell for? The answer is that it is for English and Math explanation of your process, and a very high level overview  and skeleton of the code, rather than details."
      ]
    },
    {
      "cell_type": "markdown",
      "metadata": {},
      "source": [
        "The example below illustrates all of these considerations, in addition to providing good notebook text to set up and motivate the problem, and to explain the code."
      ]
    },
    {
      "cell_type": "markdown",
      "metadata": {},
      "source": [
        "## The Monty Hall Problem\n",
        "\n",
        "Here's a fun and perhaps surprising statistical riddle, and a good way to get some practice writing python functions. It also illustrates our style guide.\n",
        "\n",
        "In a gameshow, contestants try to guess which of 3 closed doors contain a cash prize (goats are behind the other two doors). Of course, the odds of choosing the correct door are 1 in 3. As a twist, the host of the show occasionally opens a door after a contestant makes his or her choice. This door is always one of the two the contestant did not pick, and is also always one of the goat doors (note that it is always possible to do this, since there are two goat doors). At this point, the contestant has the option of keeping his or her original choice, or swtiching to the other unopened door. The question is: is there any benefit to switching doors? The answer surprises many people who haven't heard the question before.\n",
        "\n",
        "We can answer the problem by running simulations in Python. We'll do it in several parts.\n",
        "\n",
        "First, write a function called `simulate_prizedoor`. This function will simulate the location of the prize in many games -- see the detailed specification below:"
      ]
    },
    {
      "cell_type": "code",
      "execution_count": 2,
      "metadata": {
        "collapsed": true
      },
      "outputs": [],
      "source": [
        "\"\"\"\n",
        "Function\n",
        "--------\n",
        "simulate_prizedoor\n",
        "\n",
        "Generate a random array of 0s, 1s, and 2s, representing\n",
        "hiding a prize between door 0, door 1, and door 2\n",
        "\n",
        "Parameters\n",
        "----------\n",
        "nsim : int\n",
        "    The number of simulations to run\n",
        "\n",
        "Returns\n",
        "-------\n",
        "sims : array\n",
        "    Random array of 0s, 1s, and 2s\n",
        "\n",
        "Example\n",
        "-------\n",
        ">>> print simulate_prizedoor(3)\n",
        "array([0, 0, 2])\n",
        "\"\"\"\n",
        "\n",
        "def simulate_prizedoor(nsim):\n",
        "    return np.random.randint(0, 3, (nsim))"
      ]
    },
    {
      "cell_type": "markdown",
      "metadata": {},
      "source": [
        "Next, write a function that simulates the contestant's guesses for `nsim` simulations. Call this function `simulate_guess`. The specs:"
      ]
    },
    {
      "cell_type": "code",
      "execution_count": 3,
      "metadata": {
        "collapsed": true
      },
      "outputs": [],
      "source": [
        "\"\"\"\n",
        "Function\n",
        "--------\n",
        "simulate_guess\n",
        "\n",
        "Return any strategy for guessing which door a prize is behind. This\n",
        "could be a random strategy, one that always guesses 2, whatever.\n",
        "\n",
        "Parameters\n",
        "----------\n",
        "nsim : int\n",
        "    The number of simulations to generate guesses for\n",
        "\n",
        "Returns\n",
        "-------\n",
        "guesses : array\n",
        "    An array of guesses. Each guess is a 0, 1, or 2\n",
        "\n",
        "Example\n",
        "-------\n",
        ">>> print simulate_guess(5)\n",
        "array([0, 0, 0, 0, 0])\n",
        "\"\"\"\n",
        "\n",
        "def simulate_guess(nsim):\n",
        "    return np.zeros(nsim, dtype=np.int)"
      ]
    },
    {
      "cell_type": "markdown",
      "metadata": {},
      "source": [
        "Next, write a function, `goat_door`, to simulate randomly revealing one of the goat doors that a contestant didn't pick."
      ]
    },
    {
      "cell_type": "code",
      "execution_count": 4,
      "metadata": {
        "collapsed": true
      },
      "outputs": [],
      "source": [
        "\"\"\"\n",
        "Function\n",
        "--------\n",
        "goat_door\n",
        "\n",
        "Simulate the opening of a \"goat door\" that doesn't contain the prize,\n",
        "and is different from the contestants guess\n",
        "\n",
        "Parameters\n",
        "----------\n",
        "prizedoors : array\n",
        "    The door that the prize is behind in each simulation\n",
        "guesses : array\n",
        "    THe door that the contestant guessed in each simulation\n",
        "\n",
        "Returns\n",
        "-------\n",
        "goats : array\n",
        "    The goat door that is opened for each simulation. Each item is 0, 1, or 2, and is different\n",
        "    from both prizedoors and guesses\n",
        "\n",
        "Examples\n",
        "--------\n",
        ">>> print goat_door(np.array([0, 1, 2]), np.array([1, 1, 1]))\n",
        ">>> array([2, 2, 0])\n",
        "\"\"\"\n",
        "\n",
        "def goat_door(prizedoors, guesses):\n",
        "    \n",
        "    # strategy: generate random answers, and\n",
        "    # keep updating until they satisfy the rule\n",
        "    # that they aren't a prizedoor or a guess\n",
        "    result = np.random.randint(0, 3, prizedoors.size)\n",
        "    while True:\n",
        "        bad = (result == prizedoors) | (result == guesses)\n",
        "        if not bad.any():\n",
        "            return result\n",
        "        result[bad] = np.random.randint(0, 3, bad.sum())"
      ]
    },
    {
      "cell_type": "markdown",
      "metadata": {},
      "source": [
        "Write a function, `switch_guess`, that represents the strategy of always switching a guess after the goat door is opened."
      ]
    },
    {
      "cell_type": "code",
      "execution_count": 5,
      "metadata": {
        "collapsed": true
      },
      "outputs": [],
      "source": [
        "\"\"\"\n",
        "Function\n",
        "--------\n",
        "switch_guess\n",
        "\n",
        "The strategy that always switches a guess after the goat door is opened\n",
        "\n",
        "Parameters\n",
        "----------\n",
        "guesses : array\n",
        "     Array of original guesses, for each simulation\n",
        "goatdoors : array\n",
        "     Array of revealed goat doors for each simulation\n",
        "\n",
        "Returns\n",
        "-------\n",
        "The new door after switching. Should be different from both guesses and goatdoors\n",
        "\n",
        "Examples\n",
        "--------\n",
        ">>> print switch_guess(np.array([0, 1, 2]), np.array([1, 2, 1]))\n",
        ">>> array([2, 0, 0])\n",
        "\"\"\"\n",
        "\n",
        "def switch_guess(guesses, goatdoors):\n",
        "    result = np.zeros(guesses.size)\n",
        "    switch = {(0, 1): 2, (0, 2): 1, (1, 0): 2, (1, 2): 1, (2, 0): 1, (2, 1): 0}\n",
        "    for i in [0, 1, 2]:\n",
        "        for j in [0, 1, 2]:\n",
        "            mask = (guesses == i) & (goatdoors == j)\n",
        "            if not mask.any():\n",
        "                continue\n",
        "            result = np.where(mask, np.ones_like(result) * switch[(i, j)], result)\n",
        "    return result"
      ]
    },
    {
      "cell_type": "markdown",
      "metadata": {},
      "source": [
        "Last function: write a `win_percentage` function that takes an array of `guesses` and `prizedoors`, and returns the percent of correct guesses"
      ]
    },
    {
      "cell_type": "code",
      "execution_count": 6,
      "metadata": {
        "collapsed": true
      },
      "outputs": [],
      "source": [
        "\"\"\"\n",
        "Function\n",
        "--------\n",
        "win_percentage\n",
        "\n",
        "Calculate the percent of times that a simulation of guesses is correct\n",
        "\n",
        "Parameters\n",
        "-----------\n",
        "guesses : array\n",
        "    Guesses for each simulation\n",
        "prizedoors : array\n",
        "    Location of prize for each simulation\n",
        "\n",
        "Returns\n",
        "--------\n",
        "percentage : number between 0 and 100\n",
        "    The win percentage\n",
        "\n",
        "Examples\n",
        "---------\n",
        ">>> print win_percentage(np.array([0, 1, 2]), np.array([0, 0, 0]))\n",
        "33.333\n",
        "\"\"\"\n",
        "\n",
        "def win_percentage(guesses, prizedoors):\n",
        "    return 100 * (guesses == prizedoors).mean()"
      ]
    },
    {
      "cell_type": "markdown",
      "metadata": {},
      "source": [
        "Now, put it together. Simulate 10000 games where contestant keeps his original guess, and 10000 games where the contestant switches his door after a  goat door is revealed. Compute the percentage of time the contestant wins under either strategy. Is one strategy better than the other?"
      ]
    },
    {
      "cell_type": "code",
      "execution_count": 7,
      "metadata": {},
      "outputs": [],
      "source": [
        "nsim = 10000\n",
        "\n",
        "# keep guesses\n",
        "print(\"Win percentage when keeping original door\")\n",
        "print(win_percentage(simulate_prizedoor(nsim), simulate_guess(nsim)))\n",
        "\n",
        "#switch\n",
        "pd = simulate_prizedoor(nsim)\n",
        "guess = simulate_guess(nsim)\n",
        "goats = goat_door(pd, guess)\n",
        "guess = switch_guess(guess, goats)\n",
        "print(\"Win percentage when switching doors\")\n",
        "print(win_percentage(pd, guess).mean())"
      ]
    },
    {
      "cell_type": "markdown",
      "metadata": {},
      "source": [
        "Many people find this answer counter-intuitive (famously, PhD mathematicians have incorrectly claimed the result must be wrong. Clearly, none of them knew Python). \n",
        "\n",
        "One of the best ways to build intuition about why opening a Goat door affects the odds is to re-run the experiment with 100 doors and one prize. If the game show host opens 98 goat doors after you make your initial selection, would you want to keep your first pick or switch? Can you generalize your simulation code to handle the case of `n` doors?"
      ]
    }
  ]
}