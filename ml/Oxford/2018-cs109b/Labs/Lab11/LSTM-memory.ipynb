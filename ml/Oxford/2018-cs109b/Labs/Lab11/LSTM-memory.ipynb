{
 "cells": [
  {
   "cell_type": "code",
   "execution_count": 3,
   "metadata": {},
   "outputs": [
    {
     "name": "stderr",
     "output_type": "stream",
     "text": [
      "Using TensorFlow backend.\n"
     ]
    }
   ],
   "source": [
    "from pandas import DataFrame\n",
    "from keras.models import Sequential\n",
    "from keras.layers import Dense\n",
    "from keras.layers import LSTM\n",
    "import random\n",
    "from tqdm import tqdm"
   ]
  },
  {
   "cell_type": "markdown",
   "metadata": {},
   "source": [
    "#### TASK OF THE PROGRAM\n",
    "\n",
    "Given a sequence of digits, the model learns to predict the sequence leading by 1.\n",
    "\n",
    "For instance,\n",
    "\n",
    "Sequence: [3,0,1,2,3] -> Output [0,1,2,3]\n",
    "Sequence: [4,0,1,2,3] -> Output [0,1,2,4]"
   ]
  },
  {
   "cell_type": "markdown",
   "metadata": {},
   "source": [
    "#### ONE HOT ENCODER FOR DIGITS"
   ]
  },
  {
   "cell_type": "code",
   "execution_count": 5,
   "metadata": {},
   "outputs": [],
   "source": [
    "# binary encode an input pattern, return a list of binary vectors\n",
    "def encode(pattern, n_unique):\n",
    "    encoded = list()\n",
    "    for value in pattern:\n",
    "        row = [0.0 for x in range(n_unique)]\n",
    "        row[value] = 1.0\n",
    "        encoded.append(row)\n",
    "    return encoded"
   ]
  },
  {
   "cell_type": "markdown",
   "metadata": {},
   "source": [
    "#### CONVERT SEQUENCES TO LSTM FRIENDLY INPUT OUTPUT"
   ]
  },
  {
   "cell_type": "code",
   "execution_count": 8,
   "metadata": {
    "collapsed": true
   },
   "outputs": [],
   "source": [
    "def to_xy_pairs(encoded):\n",
    "    X,y = list(),list()\n",
    "    for i in range(1, len(encoded)):\n",
    "        X.append(encoded[i-1])\n",
    "        y.append(encoded[i])\n",
    "    return X, y"
   ]
  },
  {
   "cell_type": "code",
   "execution_count": 12,
   "metadata": {},
   "outputs": [],
   "source": [
    "def to_lstm_dataset(sequence, n_unique):\n",
    "    # one hot encode\n",
    "    encoded = encode(sequence, n_unique)\n",
    "    # convert to in/out patterns\n",
    "    X,y = to_xy_pairs(encoded)\n",
    "    # convert to LSTM friendly format\n",
    "    dfX, dfy = DataFrame(X), DataFrame(y)\n",
    "    lstmX = dfX.values\n",
    "    lstmX = lstmX.reshape(lstmX.shape[0], 1, lstmX.shape[1])\n",
    "    lstmY = dfy.values\n",
    "    return lstmX, lstmY"
   ]
  },
  {
   "cell_type": "markdown",
   "metadata": {},
   "source": [
    "#### DUMMY SEQUENCES CONSTRUCT\n",
    "\n",
    "FORMAT FOR SEQUENCES - [Seed, 3 pre-defined numbers, Seed] Seed and pre-defined numbers are between 0 and 5."
   ]
  },
  {
   "cell_type": "code",
   "execution_count": 13,
   "metadata": {},
   "outputs": [],
   "source": [
    "# define sequences\n",
    "n_seq_train = 50\n",
    "n_seq_test = 10\n",
    "n_unique = 6\n",
    "n_len = 3\n",
    "\n",
    "seqsX = []\n",
    "seqsY = []\n",
    "seqs = []\n",
    "rand_list = [random.randint(0,n_unique-1) for _ in range(n_len)]\n",
    "\n",
    "for i in range(n_seq_train):\n",
    "    seed = random.randint(0,n_unique-1)\n",
    "    seqs.append([seed] + rand_list + [seed])\n",
    "    lstm_data =  to_lstm_dataset(seqs[i], n_unique)    \n",
    "    seqsX.append(lstm_data[0])\n",
    "    seqsY.append(lstm_data[1])\n",
    "\n",
    "test_seqsX = []\n",
    "test_seqsY = []\n",
    "test_seqs = []\n",
    "for i in range(n_seq_test):\n",
    "    seed = random.randint(0,n_unique-1)\n",
    "    test_seqs.append([seed] + rand_list + [seed])\n",
    "    lstm_data =  to_lstm_dataset(test_seqs[i], n_unique)    \n",
    "    test_seqsX.append(lstm_data[0])\n",
    "    test_seqsY.append(lstm_data[1])"
   ]
  },
  {
   "cell_type": "markdown",
   "metadata": {},
   "source": [
    "#### DEFINE CONFIGURATION"
   ]
  },
  {
   "cell_type": "code",
   "execution_count": 14,
   "metadata": {
    "collapsed": true
   },
   "outputs": [],
   "source": [
    "n_neurons = 20\n",
    "n_batch = 1\n",
    "n_epoch = 250\n",
    "n_features = n_unique\n"
   ]
  },
  {
   "cell_type": "markdown",
   "metadata": {},
   "source": [
    "##### PREPARE MODEL"
   ]
  },
  {
   "cell_type": "code",
   "execution_count": 15,
   "metadata": {
    "collapsed": true
   },
   "outputs": [],
   "source": [
    "model = Sequential()\n",
    "model.add(LSTM(n_neurons, batch_input_shape=(n_batch, 1, n_features), stateful=True))\n",
    "model.add(Dense(n_unique, activation='sigmoid'))\n",
    "model.compile(loss='binary_crossentropy', optimizer='adam')# train LSTM\n"
   ]
  },
  {
   "cell_type": "markdown",
   "metadata": {},
   "source": [
    "#### TRAIN"
   ]
  },
  {
   "cell_type": "code",
   "execution_count": 16,
   "metadata": {},
   "outputs": [
    {
     "name": "stderr",
     "output_type": "stream",
     "text": [
      "100%|████████████████████████████████████████████████████████████████████████████████| 250/250 [02:17<00:00,  1.82it/s]\n"
     ]
    }
   ],
   "source": [
    "for i in tqdm(range(n_epoch)):\n",
    "   for j in range(n_seq_train):\n",
    "        model.fit(seqsX[j], seqsY[j], epochs=1, batch_size=n_batch, verbose=0, shuffle=False)\n",
    "        model.reset_states()"
   ]
  },
  {
   "cell_type": "markdown",
   "metadata": {},
   "source": [
    "#### TEST"
   ]
  },
  {
   "cell_type": "code",
   "execution_count": 17,
   "metadata": {},
   "outputs": [
    {
     "name": "stdout",
     "output_type": "stream",
     "text": [
      "Sequence  0\n",
      "X=1.0 y=0.0, yhat=0.0\n",
      "X=0.0 y=5.0, yhat=5.0\n",
      "X=5.0 y=1.0, yhat=1.0\n",
      "X=1.0 y=1.0, yhat=1.0\n",
      "Sequence  1\n",
      "X=5.0 y=0.0, yhat=0.0\n",
      "X=0.0 y=5.0, yhat=5.0\n",
      "X=5.0 y=1.0, yhat=1.0\n",
      "X=1.0 y=5.0, yhat=5.0\n",
      "Sequence  2\n",
      "X=2.0 y=0.0, yhat=0.0\n",
      "X=0.0 y=5.0, yhat=5.0\n",
      "X=5.0 y=1.0, yhat=1.0\n",
      "X=1.0 y=2.0, yhat=2.0\n",
      "Sequence  3\n",
      "X=3.0 y=0.0, yhat=0.0\n",
      "X=0.0 y=5.0, yhat=5.0\n",
      "X=5.0 y=1.0, yhat=1.0\n",
      "X=1.0 y=3.0, yhat=3.0\n",
      "Sequence  4\n",
      "X=4.0 y=0.0, yhat=0.0\n",
      "X=0.0 y=5.0, yhat=5.0\n",
      "X=5.0 y=1.0, yhat=1.0\n",
      "X=1.0 y=4.0, yhat=2.0\n",
      "Sequence  5\n",
      "X=1.0 y=0.0, yhat=0.0\n",
      "X=0.0 y=5.0, yhat=5.0\n",
      "X=5.0 y=1.0, yhat=1.0\n",
      "X=1.0 y=1.0, yhat=1.0\n",
      "Sequence  6\n",
      "X=3.0 y=0.0, yhat=0.0\n",
      "X=0.0 y=5.0, yhat=5.0\n",
      "X=5.0 y=1.0, yhat=1.0\n",
      "X=1.0 y=3.0, yhat=3.0\n",
      "Sequence  7\n",
      "X=1.0 y=0.0, yhat=0.0\n",
      "X=0.0 y=5.0, yhat=5.0\n",
      "X=5.0 y=1.0, yhat=1.0\n",
      "X=1.0 y=1.0, yhat=1.0\n",
      "Sequence  8\n",
      "X=3.0 y=0.0, yhat=0.0\n",
      "X=0.0 y=5.0, yhat=5.0\n",
      "X=5.0 y=1.0, yhat=1.0\n",
      "X=1.0 y=3.0, yhat=3.0\n",
      "Sequence  9\n",
      "X=5.0 y=0.0, yhat=0.0\n",
      "X=0.0 y=5.0, yhat=5.0\n",
      "X=5.0 y=1.0, yhat=1.0\n",
      "X=1.0 y=5.0, yhat=5.0\n",
      "Overall learning accuracy :  0.9\n"
     ]
    }
   ],
   "source": [
    "truths = []\n",
    "# test LSTM on sequence 1\n",
    "for j in range(n_seq_test):\n",
    "    print('Sequence ', j)\n",
    "    result = model.predict_classes(test_seqsX[j], batch_size=n_batch, verbose=0)\n",
    "    model.reset_states()\n",
    "    \n",
    "    for i in range(len(result)):\n",
    "        print('X=%.1f y=%.1f, yhat=%.1f' % (test_seqs[j][i], test_seqs[j][i+1], result[i]))\n",
    "    truths.append(result[-1] == test_seqs[j][0])\n",
    "\n",
    "print(\"Overall learning accuracy : \", sum(truths)/len(truths) )"
   ]
  },
  {
   "cell_type": "code",
   "execution_count": null,
   "metadata": {
    "collapsed": true
   },
   "outputs": [],
   "source": []
  }
 ],
 "metadata": {
  "kernelspec": {
   "display_name": "Python 3",
   "language": "python",
   "name": "python3"
  },
  "language_info": {
   "codemirror_mode": {
    "name": "ipython",
    "version": 3
   },
   "file_extension": ".py",
   "mimetype": "text/x-python",
   "name": "python",
   "nbconvert_exporter": "python",
   "pygments_lexer": "ipython3",
   "version": "3.6.1"
  }
 },
 "nbformat": 4,
 "nbformat_minor": 2
}
