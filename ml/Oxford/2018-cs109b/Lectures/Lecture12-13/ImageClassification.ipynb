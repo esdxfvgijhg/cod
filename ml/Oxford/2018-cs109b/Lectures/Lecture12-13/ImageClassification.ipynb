{
 "cells": [
  {
   "cell_type": "markdown",
   "metadata": {},
   "source": [
    "## Introduction to Deep Learning Image Classification using Keras\n",
    "\n",
    "#### Presented by Pavlos Protopapas, Harvard Institute for Applied Computational Science\n",
    "\n",
    "\n",
    "This notebook will cover the following topics:\n",
    "\n",
    "* [Theory about neural networks, backpropagation, optimization, etc.](#part1)\n",
    "    * [From Linear to Deep Learning](#part11)\n",
    "    * [Components of Deep Learning](#part12)\n",
    "* [Keras basics (functions, etc.)](#part2)\n",
    "    * [Keras Installation](#part21)\n",
    "    * [Keras Basic - MNIST](#part22)\n",
    "* [Fundamentals of Machine Learning](#part3) \n",
    "<!-- * [Matplotlib visualization](#part4) -->\n",
    "* [Example with \n",
    "* [References and Where to Learning More](#references)\n"
   ]
  },
  {
   "cell_type": "markdown",
   "metadata": {},
   "source": [
    "<a id='part1'></a>\n",
    "## Part 1 - Theory about Neural Networks"
   ]
  },
  {
   "cell_type": "markdown",
   "metadata": {},
   "source": [
    "<a id='part11'></a>\n",
    "### 1.1 - From Linear to Deep Learning Models\n",
    "\n",
    "#### Beyond Linear Models\n",
    "\n",
    "Linear models can be fit efficiently via convex optimization, but the model capacity is limited.\n",
    "\n",
    "Alternative:\n",
    "$$ f(x) = w^T\\phi(x) $$\n",
    "where $\\phi$ is a *non-linear transform*\n",
    "\n",
    "A machine-learning model transforms its input data into meaningful outputs, a process that is “learned” from exposure to known examples of inputs and outputs. Therefore, the central problem in machine learning and deep learning is to meaningfully transform data: in other words, to learn useful *representations* of the input data at hand—representations that get us closer to the expected output.\n",
    "\n",
    "#### Traditional Machine Learning\n",
    "\n",
    "One option is to use a very generic $\\phi$. If $\\phi(x)$ is of high enough dimension, we can always have enough capacity to fit the training set, but generalization to the test set often remains poor. Very generic feature mappings are usually based only on the principle of local smoothness and do not encode enough prior information to solve advanced problems.\n",
    "\n",
    "Another option is to manually engineer $\\phi$. Until the advent of deep learning, this was the dominant approach. It requires decades of human eﬀort foreach separate task, with practitioners specializing in different domains, such as speech recognition or computer vision, and with little transfer between domains.\n",
    "\n",
    "#### Deep Learning\n",
    "\n",
    "Directly learn $\\phi$ with parameters $\\theta$, specifically:\n",
    "$$f(x;\\theta) = w^T\\phi(x;\\theta)$$\n",
    "\n",
    "\n",
    "We now have parameters $\\theta$ that we use to learn $\\phi$ from a broad class of functions, and parameters that map from $\\phi(x)$ to the desired output. This is an example of a deep feed-forward network, with $\\phi$ deﬁning a hidden layer. This approach is the only one of the three that gives up on the convexity of the training problem, but the beneﬁts outweigh the harms. In this approach, we parametrize the representation as $\\phi(x;\\theta)$ and use the optimization algorithm to ﬁnd the $\\theta$ that corresponds to a good representation. If we wish, this approach can capture the beneﬁt of the first approach by being highly generic—we do so by using a very broad family $\\phi(x;\\theta)$. Deep learning can also capture the beneﬁt of the second approach. Human practitioners can encode their knowledge to help generalization by designing families $\\phi(x;\\theta)$ that they expect will perform well. The advantage is that the human designer only needs to ﬁnd the right general function family rather than ﬁnding precisely the right function.\n",
    "\n",
    "![layers of representations](representations.png)\n",
    "\n",
    "The *deep* in *deep learning* isn’t a reference to any kind of deeper understanding achieved by the approach; rather, it stands for this idea of successive layers of representations. How many layers contribute to a model of the data is called the *depth* of the model. Other appropriate names for the field could have been *layered representations learning* and *hierarchical representations learning*. Modern deep learning often involves tens or even hundreds of successive layers of representations— and they’re all learned automatically from exposure to training data.\n"
   ]
  },
  {
   "cell_type": "markdown",
   "metadata": {},
   "source": [
    "<a id='part12'></a>\n",
    "### 1.2 - Components of Deep Learning\n",
    "\n",
    "To do machine learning, we need three things:\n",
    "* **Input** data points—For instance, if the task is speech recognition, these data points could be sound files of people speaking. If the task is image tagging, they could be pictures.\n",
    "* Examples of the expected **output** —In a speech-recognition task, these could be human-generated transcripts of sound files. In an image task, expected outputs could be tags such as “dog,” “cat,” and so on.\n",
    "* A **cost (or loss) function** which is a way to measure whether the algorithm is doing a good job. This is necessary in order to determine the distance between the algorithm’s current output and its expected output. The measurement is used as a feedback signal to adjust the way the algorithm works. This adjustment step is what we call *learning*.\n",
    "\n",
    "![components of deep learning](components.png)\n",
    "\n",
    "\n"
   ]
  },
  {
   "cell_type": "markdown",
   "metadata": {},
   "source": [
    "<a id='part2'></a>\n",
    "## Part 2 - Keras Basics"
   ]
  },
  {
   "cell_type": "markdown",
   "metadata": {},
   "source": [
    "\n",
    "<a id='part21'></a>\n",
    "### Part 2.1 - Keras Installation\n",
    "\n",
    "If you haven't already, please install Keras using the instructions found at [https://keras.io/#installation](https://keras.io/#installation)\n",
    "\n",
    "Choose the TensorFlow installation instructions (found at [https://www.tensorflow.org/install/](https://www.tensorflow.org/install/) )\n",
    "\n",
    "Note the following:\n",
    "\n",
    "* cuDNN is only required if your machine has an NVidia graphics card (GPU)\n",
    "* For this tutorial, HDF5 and h5py are not required\n",
    "* graphviz and pydot are not required"
   ]
  },
  {
   "cell_type": "markdown",
   "metadata": {},
   "source": [
    "<a id='part22'></a>\n",
    "### Part 2.2 - Keras Basics\n"
   ]
  },
  {
   "cell_type": "code",
   "execution_count": 1,
   "metadata": {},
   "outputs": [
    {
     "name": "stderr",
     "output_type": "stream",
     "text": [
      "Using TensorFlow backend.\n"
     ]
    },
    {
     "data": {
      "text/plain": [
       "'2.1.4'"
      ]
     },
     "execution_count": 1,
     "metadata": {},
     "output_type": "execute_result"
    }
   ],
   "source": [
    "import keras\n",
    "keras.__version__"
   ]
  },
  {
   "cell_type": "markdown",
   "metadata": {},
   "source": [
    "# A first look at a neural network\n",
    "\n",
    "This notebook contains the code samples found in Chapter 2, Section 1 of [Deep Learning with Python](https://www.manning.com/books/deep-learning-with-python?a_aid=keras&a_bid=76564dff). Note that the original text features far more content, in particular further explanations and figures: in this notebook, you will only find source code and related comments.\n",
    "\n",
    "----\n",
    "\n",
    "We will now take a look at a first concrete example of a neural network, which makes use of the Python library Keras to learn to classify \n",
    "hand-written digits. Unless you already have experience with Keras or similar libraries, you will not understand everything about this \n",
    "first example right away. You probably haven't even installed Keras yet. Don't worry, that is perfectly fine. In the next chapter, we will \n",
    "review each element in our example and explain them in detail. So don't worry if some steps seem arbitrary or look like magic to you! \n",
    "We've got to start somewhere.\n",
    "\n",
    "The problem we are trying to solve here is to classify grayscale images of handwritten digits (28 pixels by 28 pixels), into their 10 \n",
    "categories (0 to 9). The dataset we will use is the MNIST dataset, a classic dataset in the machine learning community, which has been \n",
    "around for almost as long as the field itself and has been very intensively studied. It's a set of 60,000 training images, plus 10,000 test \n",
    "images, assembled by the National Institute of Standards and Technology (the NIST in MNIST) in the 1980s. You can think of \"solving\" MNIST \n",
    "as the \"Hello World\" of deep learning -- it's what you do to verify that your algorithms are working as expected. As you become a machine \n",
    "learning practitioner, you will see MNIST come up over and over again, in scientific papers, blog posts, and so on.\n",
    "\n",
    "\n",
    "![MNIST digits](MNIST.png)"
   ]
  },
  {
   "cell_type": "markdown",
   "metadata": {},
   "source": [
    "The MNIST dataset comes pre-loaded in Keras, in the form of a set of four Numpy arrays:"
   ]
  },
  {
   "cell_type": "code",
   "execution_count": 2,
   "metadata": {},
   "outputs": [
    {
     "name": "stdout",
     "output_type": "stream",
     "text": [
      "Downloading data from https://s3.amazonaws.com/img-datasets/mnist.npz\n",
      "11493376/11490434 [==============================] - 1s 0us/step\n"
     ]
    }
   ],
   "source": [
    "from keras.datasets import mnist\n",
    "\n",
    "(train_images, train_labels), (test_images, test_labels) = mnist.load_data()"
   ]
  },
  {
   "cell_type": "markdown",
   "metadata": {},
   "source": [
    "`train_images` and `train_labels` form the \"training set\", the data that the model will learn from. The model will then be tested on the \n",
    "\"test set\", `test_images` and `test_labels`. Our images are encoded as Numpy arrays, and the labels are simply an array of digits, ranging \n",
    "from 0 to 9. There is a one-to-one correspondence between the images and the labels.\n",
    "\n",
    "Let's have a look at the training data:"
   ]
  },
  {
   "cell_type": "code",
   "execution_count": 3,
   "metadata": {},
   "outputs": [
    {
     "data": {
      "text/plain": [
       "(60000, 28, 28)"
      ]
     },
     "execution_count": 3,
     "metadata": {},
     "output_type": "execute_result"
    }
   ],
   "source": [
    "train_images.shape"
   ]
  },
  {
   "cell_type": "code",
   "execution_count": 4,
   "metadata": {},
   "outputs": [
    {
     "data": {
      "text/plain": [
       "60000"
      ]
     },
     "execution_count": 4,
     "metadata": {},
     "output_type": "execute_result"
    }
   ],
   "source": [
    "len(train_labels)"
   ]
  },
  {
   "cell_type": "code",
   "execution_count": 5,
   "metadata": {},
   "outputs": [
    {
     "data": {
      "text/plain": [
       "array([0, 1, 2, 3, 4, 5, 6, 7, 8, 9], dtype=uint8)"
      ]
     },
     "execution_count": 5,
     "metadata": {},
     "output_type": "execute_result"
    }
   ],
   "source": [
    "import numpy as np\n",
    "np.unique(train_labels)"
   ]
  },
  {
   "cell_type": "code",
   "execution_count": 6,
   "metadata": {},
   "outputs": [
    {
     "data": {
      "text/plain": [
       "<matplotlib.image.AxesImage at 0x18232ea7f0>"
      ]
     },
     "execution_count": 6,
     "metadata": {},
     "output_type": "execute_result"
    },
    {
     "name": "stderr",
     "output_type": "stream",
     "text": [
      "/Users/eleni/anaconda2/envs/tensorflow/lib/python3.6/site-packages/matplotlib/font_manager.py:280: UserWarning: Matplotlib is building the font cache using fc-list. This may take a moment.\n",
      "  'Matplotlib is building the font cache using fc-list. '\n"
     ]
    },
    {
     "data": {
      "image/png": "[encoded data removed]",
      "text/plain": [
       "<matplotlib.figure.Figure at 0x181abdf5f8>"
      ]
     },
     "metadata": {},
     "output_type": "display_data"
    }
   ],
   "source": [
    "import matplotlib.pylab as plt\n",
    "%matplotlib inline \n",
    "\n",
    "plt.imshow(test_images[2,:,:])"
   ]
  },
  {
   "cell_type": "markdown",
   "metadata": {},
   "source": [
    "Let's have a look at the test data:"
   ]
  },
  {
   "cell_type": "code",
   "execution_count": 7,
   "metadata": {},
   "outputs": [
    {
     "data": {
      "text/plain": [
       "(10000, 28, 28)"
      ]
     },
     "execution_count": 7,
     "metadata": {},
     "output_type": "execute_result"
    }
   ],
   "source": [
    "test_images.shape"
   ]
  },
  {
   "cell_type": "code",
   "execution_count": 8,
   "metadata": {},
   "outputs": [
    {
     "data": {
      "text/plain": [
       "10000"
      ]
     },
     "execution_count": 8,
     "metadata": {},
     "output_type": "execute_result"
    }
   ],
   "source": [
    "len(test_labels)"
   ]
  },
  {
   "cell_type": "code",
   "execution_count": 9,
   "metadata": {},
   "outputs": [
    {
     "data": {
      "text/plain": [
       "array([7, 2, 1, ..., 4, 5, 6], dtype=uint8)"
      ]
     },
     "execution_count": 9,
     "metadata": {},
     "output_type": "execute_result"
    }
   ],
   "source": [
    "test_labels"
   ]
  },
  {
   "cell_type": "code",
   "execution_count": 10,
   "metadata": {},
   "outputs": [
    {
     "data": {
      "text/plain": [
       "(10000, 28, 28)"
      ]
     },
     "execution_count": 10,
     "metadata": {},
     "output_type": "execute_result"
    }
   ],
   "source": [
    "test_images.shape"
   ]
  },
  {
   "cell_type": "markdown",
   "metadata": {},
   "source": [
    "Our workflow will be as follow: first we will present our neural network with the training data, `train_images` and `train_labels`. The \n",
    "network will then learn to associate images and labels. Finally, we will ask the network to produce predictions for `test_images`, and we \n",
    "will verify if these predictions match the labels from `test_labels`.\n",
    "\n",
    "Let's build our network -- again, remember that you aren't supposed to understand everything about this example just yet."
   ]
  },
  {
   "cell_type": "code",
   "execution_count": 11,
   "metadata": {},
   "outputs": [],
   "source": [
    "from keras import models\n",
    "from keras import layers\n",
    "\n",
    "network = models.Sequential()\n",
    "network.add(layers.Dense(12, activation='relu', input_shape=(28 * 28,)))\n",
    "network.add(layers.Dense(12, activation='relu', input_shape=(12,)))\n",
    "network.add(layers.Dense(10, activation='softmax'))"
   ]
  },
  {
   "cell_type": "markdown",
   "metadata": {},
   "source": [
    "\n",
    "The core building block of neural networks is the \"layer\", a data-processing module which you can conceive as a \"filter\" for data. Some \n",
    "data comes in, and comes out in a more useful form. Precisely, layers extract _representations_ out of the data fed into them -- hopefully \n",
    "representations that are more meaningful for the problem at hand. Most of deep learning really consists of chaining together simple layers \n",
    "which will implement a form of progressive \"data distillation\". A deep learning model is like a sieve for data processing, made of a \n",
    "succession of increasingly refined data filters -- the \"layers\".\n",
    "\n",
    "Here our network consists of a sequence of two `Dense` layers, which are densely-connected (also called \"fully-connected\") neural layers. \n",
    "The second (and last) layer is a 10-way \"softmax\" layer, which means it will return an array of 10 probability scores (summing to 1). Each \n",
    "score will be the probability that the current digit image belongs to one of our 10 digit classes.\n",
    "\n",
    "To make our network ready for training, we need to pick three more things, as part of \"compilation\" step:\n",
    "\n",
    "* A loss function: the is how the network will be able to measure how good a job it is doing on its training data, and thus how it will be \n",
    "able to steer itself in the right direction.\n",
    "* An optimizer: this is the mechanism through which the network will update itself based on the data it sees and its loss function.\n",
    "* Metrics to monitor during training and testing. Here we will only care about accuracy (the fraction of the images that were correctly \n",
    "classified).\n",
    "\n",
    "The exact purpose of the loss function and the optimizer will be made clear throughout the next two chapters."
   ]
  },
  {
   "cell_type": "code",
   "execution_count": 12,
   "metadata": {},
   "outputs": [],
   "source": [
    "network.compile(optimizer='rmsprop',\n",
    "                loss='categorical_crossentropy',\n",
    "                metrics=['accuracy'])"
   ]
  },
  {
   "cell_type": "markdown",
   "metadata": {},
   "source": [
    "\n",
    "Before training, we will preprocess our data by reshaping it into the shape that the network expects, and scaling it so that all values are in \n",
    "the `[0, 1]` interval. Previously, our training images for instance were stored in an array of shape `(60000, 28, 28)` of type `uint8` with \n",
    "values in the `[0, 255]` interval. We transform it into a `float32` array of shape `(60000, 28 * 28)` with values between 0 and 1."
   ]
  },
  {
   "cell_type": "code",
   "execution_count": 13,
   "metadata": {},
   "outputs": [],
   "source": [
    "train_images = train_images.reshape((60000, 28 * 28))\n",
    "train_images = train_images.astype('float32') / 255\n",
    "\n",
    "test_images = test_images.reshape((10000, 28 * 28))\n",
    "test_images = test_images.astype('float32') / 255"
   ]
  },
  {
   "cell_type": "markdown",
   "metadata": {},
   "source": [
    "We also need to categorically encode the labels, a step which we explain in chapter 3:"
   ]
  },
  {
   "cell_type": "code",
   "execution_count": 14,
   "metadata": {},
   "outputs": [],
   "source": [
    "from keras.utils import to_categorical\n",
    "\n",
    "train_labels = to_categorical(train_labels)\n",
    "test_labels = to_categorical(test_labels)"
   ]
  },
  {
   "cell_type": "markdown",
   "metadata": {},
   "source": [
    "We are now ready to train our network, which in Keras is done via a call to the `fit` method of the network: \n",
    "we \"fit\" the model to its training data."
   ]
  },
  {
   "cell_type": "code",
   "execution_count": 15,
   "metadata": {},
   "outputs": [
    {
     "name": "stdout",
     "output_type": "stream",
     "text": [
      "Epoch 1/25\n",
      "60000/60000 [==============================] - 1s 17us/step - loss: 0.7836 - acc: 0.7706\n",
      "Epoch 2/25\n",
      "60000/60000 [==============================] - 1s 12us/step - loss: 0.3298 - acc: 0.9070\n",
      "Epoch 3/25\n",
      "60000/60000 [==============================] - 1s 12us/step - loss: 0.2756 - acc: 0.9203\n",
      "Epoch 4/25\n",
      "60000/60000 [==============================] - 1s 12us/step - loss: 0.2507 - acc: 0.9278\n",
      "Epoch 5/25\n",
      "60000/60000 [==============================] - 1s 12us/step - loss: 0.2358 - acc: 0.9331\n",
      "Epoch 6/25\n",
      "60000/60000 [==============================] - 1s 12us/step - loss: 0.2245 - acc: 0.9357\n",
      "Epoch 7/25\n",
      "60000/60000 [==============================] - 1s 12us/step - loss: 0.2151 - acc: 0.9390\n",
      "Epoch 8/25\n",
      "60000/60000 [==============================] - 1s 12us/step - loss: 0.2079 - acc: 0.9410\n",
      "Epoch 9/25\n",
      "60000/60000 [==============================] - 1s 12us/step - loss: 0.2014 - acc: 0.9417\n",
      "Epoch 10/25\n",
      "60000/60000 [==============================] - 1s 12us/step - loss: 0.1962 - acc: 0.9438\n",
      "Epoch 11/25\n",
      "60000/60000 [==============================] - 1s 12us/step - loss: 0.1923 - acc: 0.9447\n",
      "Epoch 12/25\n",
      "60000/60000 [==============================] - 1s 12us/step - loss: 0.1875 - acc: 0.9460\n",
      "Epoch 13/25\n",
      "60000/60000 [==============================] - 1s 13us/step - loss: 0.1839 - acc: 0.9468\n",
      "Epoch 14/25\n",
      "60000/60000 [==============================] - 1s 13us/step - loss: 0.1804 - acc: 0.9482\n",
      "Epoch 15/25\n",
      "60000/60000 [==============================] - 1s 13us/step - loss: 0.1780 - acc: 0.9487\n",
      "Epoch 16/25\n",
      "60000/60000 [==============================] - 1s 13us/step - loss: 0.1750 - acc: 0.9500\n",
      "Epoch 17/25\n",
      "60000/60000 [==============================] - 1s 13us/step - loss: 0.1725 - acc: 0.9503\n",
      "Epoch 18/25\n",
      "60000/60000 [==============================] - 1s 12us/step - loss: 0.1701 - acc: 0.9513\n",
      "Epoch 19/25\n",
      "60000/60000 [==============================] - 1s 13us/step - loss: 0.1681 - acc: 0.9520\n",
      "Epoch 20/25\n",
      "60000/60000 [==============================] - 1s 13us/step - loss: 0.1656 - acc: 0.9528\n",
      "Epoch 21/25\n",
      "60000/60000 [==============================] - 1s 12us/step - loss: 0.1636 - acc: 0.9536: 0s - loss: 0.1409\n",
      "Epoch 22/25\n",
      "60000/60000 [==============================] - 1s 12us/step - loss: 0.1623 - acc: 0.9537\n",
      "Epoch 23/25\n",
      "60000/60000 [==============================] - 1s 12us/step - loss: 0.1603 - acc: 0.9541\n",
      "Epoch 24/25\n",
      "60000/60000 [==============================] - 1s 13us/step - loss: 0.1588 - acc: 0.9547\n",
      "Epoch 25/25\n",
      "60000/60000 [==============================] - 1s 12us/step - loss: 0.1575 - acc: 0.9553\n"
     ]
    },
    {
     "data": {
      "text/plain": [
       "<keras.callbacks.History at 0x18232d8eb8>"
      ]
     },
     "execution_count": 15,
     "metadata": {},
     "output_type": "execute_result"
    }
   ],
   "source": [
    "network.fit(train_images, train_labels, epochs=25, batch_size=128)"
   ]
  },
  {
   "cell_type": "markdown",
   "metadata": {},
   "source": [
    "Two quantities are being displayed during training: the \"loss\" (categorical cross entropy) of the network over the training data, and the accuracy of the network over \n",
    "the training data.\n",
    "\n",
    "We quickly reach an accuracy of 0.989 (i.e. 98.9%) on the training data. Now let's check that our model performs well on the test set too:"
   ]
  },
  {
   "cell_type": "code",
   "execution_count": null,
   "metadata": {},
   "outputs": [],
   "source": [
    "test_loss, test_acc = network.evaluate(test_images, test_labels)"
   ]
  },
  {
   "cell_type": "code",
   "execution_count": null,
   "metadata": {},
   "outputs": [],
   "source": [
    "print('test_acc:', test_acc, 'test_loss', test_loss)"
   ]
  },
  {
   "cell_type": "markdown",
   "metadata": {},
   "source": [
    "\n",
    "Our test set accuracy turns out to be 97.8% -- that's quite a bit lower than the training set accuracy. \n",
    "This gap between training accuracy and test accuracy is an example of \"overfitting\", \n",
    "the fact that machine learning models tend to perform worse on new data than on their training data. \n",
    "Overfitting will be a central topic in next section.\n",
    "\n",
    "This concludes our very first example -- you just saw how we could build and a train a neural network to classify handwritten digits, in \n",
    "less than 20 lines of Python code. "
   ]
  },
  {
   "cell_type": "markdown",
   "metadata": {},
   "source": [
    "<a id='part3'></a>\n",
    "### Part 3 - Fundamentals of Machine Learning"
   ]
  },
  {
   "cell_type": "markdown",
   "metadata": {},
   "source": [
    "The MNIST example is a category of machine learning called *supervised learning*. This is by far the most common case. It consists of learning to map input data to known targets (also called *annotations*), given a set of examples (often annotated by humans).  Generally, almost all applications of deep learning that are in the spotlight these days belong in this category, such as optical character recognition, speech recognition, image classification, and language translation.\n",
    "\n",
    "#### Evaluating machine-learning models\n",
    "\n",
    "In the MNIST example, we split the data into a training set and a test set. The reason not to evaluate the models on the same data they were trained on quickly became evident: after just a few epochs, all the model began to *overfit*. That is, their performance on never-before-seen data started stalling (or worsening) compared to their performance on the training data—which always improves as training progresses.\n",
    "\n",
    "In machine learning, the goal is to achieve models that *generalize*—that perform well on never-before-seen data—and overfitting is the central obstacle. You can only control that which you can observe, so it’s crucial to be able to reliably measure the generalization power of your model. The following sections look at strategies for mitigating overfitting and maximizing generalization. In this section, we’ll focus on how to measure generalization: how to evaluate machine-learning models.\n",
    "\n",
    "At the end of the day, you’ll end up with a model that performs artificially well on the training data, because that’s what you optimized it for. You care about performance on completely new data, not the training data, so you need to use a completely different, never-before-seen dataset to evaluate the model: the test dataset. Your model shouldn’t have had access to any information about the test set, even indirectly. If anything about the model has been tuned based on test set performance, then your measure of generalization will be flawed.\n",
    "\n",
    "Splitting your data into training and test sets may seem straightforward, but there are a few advanced ways to do it that can come in handy when little data is available. Let’s review three classic evaluation recipes: simple hold-out validation, K-fold validation, and iterated K-fold validation with shuffling.\n",
    "\n",
    "#### Simple Hold-out Validation\n",
    "\n",
    "This is what we did with the MNIST data. Set apart some fraction of your data as your test set. Train on the remaining data, and evaluate on the test set. \n",
    "\n",
    "![hold out validation](holdout.png)\n",
    "\n",
    "This is the simplest evaluation protocol, and it suffers from one flaw: if little data is available, then your training and test sets may contain too few samples to be statistically representative of the data at hand. This is easy to recognize: if different random shuffling rounds of the data before splitting end up yielding very different measures of model performance, then you’re having this issue. K-fold validation and iterated K-fold validation are two ways to address this, as discussed next.\n",
    "\n",
    "\n",
    "#### K-fold Validation\n",
    "\n",
    "With this approach, you split your data into $K$ partitions of equal size. For each partition `i`, train a model on the remaining $K – 1$ partitions, and evaluate it on partition `i`. Your final score is then the averages of the $K$ scores obtained. This method is helpful when the performance of your model shows significant variance based on your train-test split. Like hold-out validation, this method doesn’t exempt you from using a distinct validation set for model calibration.\n",
    "\n",
    "![K-fold validation](kfold.png)\n",
    "\n",
    "#### Iterated K-Fold Validation with Shuffling\n",
    "\n",
    "This one is for situations in which you have relatively little data available and you need to evaluate your model as precisely as possible. This can be helpful in Kaggle competitions. It consists of applying K-fold validation multiple times, shuffling the data every time before splitting it $K$ ways. The final score is the average of the scores obtained at each run of K-fold validation. Note that you end up training and evaluating $P \\times K$ models (where $P$ is the number of iterations you use), which can very expensive.\n",
    "\n",
    "#### Overfitting and Underfitting\n",
    "\n",
    "In the MNIST case, the performance of the model on the held-out validation data always peaked after a few epochs and then began to degrade: the model quickly started to overfit to the training data. Overfitting happens in every machine-learning problem. Learning how to deal with overfitting is essential to mastering machine learning.\n",
    "The fundamental issue in machine learning is the tension between optimization and generalization. *Optimization* refers to the process of adjusting a model to get the best performance possible on the training data (the *learning* in *machine learning*), whereas *generalization* refers to how well the trained model performs on data it has never seen before. The goal of the game is to get good generalization, of course, but you don’t control generalization; you can only adjust the model based on its training data.\n",
    "At the beginning of training, optimization and generalization are correlated: the lower the loss on training data, the lower the loss on test data. While this is happening, your model is said to be *underfit*: there is still progress to be made; the network hasn’t yet modeled all relevant patterns in the training data. But after a certain number of iterations on the training data, generalization stops improving, and validation metrics stall and then begin to degrade: the model is starting to overfit. That is, it’s beginning to learn patterns that are specific to the training data but that are misleading or irrelevant when it comes to new data.\n",
    "To prevent a model from learning misleading or irrelevant patterns found in the training data, *the best solution is to get more training data*. A model trained on more data will naturally generalize better. When that isn’t possible, the next-best solution is to modulate the quantity of information that your model is allowed to store or to add constraints on what information it’s allowed to store. If a network can only afford to memorize a small number of patterns, the optimization process will force it to focus on the most prominent patterns, which have a better chance of generalizing well.\n",
    "The processing of fighting overfitting this way is called *regularization*. "
   ]
  },
  {
   "cell_type": "markdown",
   "metadata": {},
   "source": [
    "### Pima Indians onset for diabetes\n",
    "\n",
    "<!--\n",
    "<a id='part4'></a>\n",
    "### Part 4 - Matplotlib Visualization\n",
    "-->"
   ]
  },
  {
   "cell_type": "markdown",
   "metadata": {},
   "source": [
    "In this exercise we are going to use the Pima Indians onset of diabetes dataset. This is a standard machine learning dataset available for free download from the UCI Machine Learning repository. It describes patient medical record data for Pima Indians and whether they had an onset of diabetes within five years. It is a binary classification problem (onset of diabetes as 1 or not as 0). The input variables that describe each patient are numerical and have varying scales. Below lists the eight attributes for the dataset:\n",
    "1. Number of times pregnant.\n",
    "2. Plasma glucose concentration a 2 hours in an oral glucose tolerance test.\n",
    "3. Diastolic blood pressure (mm Hg).\n",
    "4. Triceps skin fold thickness (mm).\n",
    "5. 2-Hour serum insulin (mu U/ml).\n",
    "6. Body mass index.\n",
    "7. Diabetes pedigree function.\n",
    "8. Age (years).\n",
    "9. Class, onset of diabetes within five years.\n",
    "\n",
    "pima-indians-diabetes.csv"
   ]
  },
  {
   "cell_type": "code",
   "execution_count": null,
   "metadata": {},
   "outputs": [],
   "source": [
    "from keras.models import Sequential\n",
    "from keras.layers import Dense\n",
    "import numpy as np\n",
    "import matplotlib.pylab as plt \n",
    "\n",
    "%matplotlib inline\n",
    "# fix random seed for reproducibility\n",
    "np.random.seed(8)"
   ]
  },
  {
   "cell_type": "code",
   "execution_count": null,
   "metadata": {},
   "outputs": [],
   "source": [
    "dataset = np.loadtxt('pima-indians-diabetes.csv', delimiter=\",\")\n",
    "X = dataset[:, 0:8]\n",
    "y = dataset[:,8]\n"
   ]
  },
  {
   "cell_type": "code",
   "execution_count": null,
   "metadata": {},
   "outputs": [],
   "source": [
    "# create model \n",
    "model = Sequential()\n",
    "model.add(Dense(12, input_dim=8, activation='relu'))\n",
    "#model.add(Dense(8,  activation = 'relu'))\n",
    "model.add(Dense(1, activation='sigmoid'))"
   ]
  },
  {
   "cell_type": "code",
   "execution_count": null,
   "metadata": {},
   "outputs": [],
   "source": [
    "#compile model \n",
    "model.compile(loss='binary_crossentropy', optimizer='adam', metrics=['accuracy'])"
   ]
  },
  {
   "cell_type": "code",
   "execution_count": null,
   "metadata": {
    "scrolled": true
   },
   "outputs": [],
   "source": [
    "s = model.fit(X, y, validation_split=0.33, epochs=200, batch_size = 20);"
   ]
  },
  {
   "cell_type": "code",
   "execution_count": null,
   "metadata": {},
   "outputs": [],
   "source": [
    "val_acc = s.history['val_acc']\n",
    "train_acc = s.history['acc']\n"
   ]
  },
  {
   "cell_type": "code",
   "execution_count": null,
   "metadata": {},
   "outputs": [],
   "source": [
    "plt.plot(val_acc)\n",
    "plt.plot(train_acc, 'r', label = 'train')\n",
    "plt.legend()"
   ]
  },
  {
   "cell_type": "code",
   "execution_count": null,
   "metadata": {},
   "outputs": [],
   "source": [
    "plt.plot(model.layers[0].get_weights()[0]);"
   ]
  },
  {
   "cell_type": "markdown",
   "metadata": {},
   "source": [
    "<a id='references'></a>\n",
    "### References and Where to Learning More\n",
    "\n",
    "* Most of this introduction is based on the book [Deep Learning with Python](https://www.manning.com/books/deep-learning-with-python) written by the author of Keras. It is a very practical introduction to Deep Learning. It is appropriate for those with some Python knowledge who want to start with machine learning.\n",
    "* [Deep Learning Book](http://www.deeplearningbook.org/) is a theoretical book in three parts: 1) The mathematical\n",
    "basis for Deep Learning, 2) Modern Practice Deep Networks, 3) Deep Learning Research. It is a good second book after getting some practical initial experience.\n",
    "* https://machinelearningmastery.com/deep-learning-with-python/ \n",
    "\n",
    "We also recommend Andrew Ng's online course: https://www.deeplearning.ai/\n",
    "\n",
    "Harvard FAS has the following undergraduate and graduate level machine learning courses:\n",
    "* [CS109 Introduction to Data Science](https://github.com/cs109). Two semester intensive course on data science including machine learning. Also offered through the Extension School (see below).\n",
    "* [CS181: Machine Learning](https://harvard-ml-courses.github.io/cs181-web-2017/)\n",
    "* [CS281: Advanced Machine Learning](https://harvard-ml-courses.github.io/cs281-web/)\n",
    "* CS282R: Topics in Machine Learning. Graduate level exploration of machine learning. Topics vary \n",
    "every iteration.\n",
    "* [CS287: Natural Language Processing](https://github.com/harvard-ml-courses/cs287-s18)\n",
    "\n"
   ]
  },
  {
   "cell_type": "code",
   "execution_count": null,
   "metadata": {},
   "outputs": [],
   "source": []
  }
 ],
 "metadata": {
  "kernelspec": {
   "display_name": "Python 3",
   "language": "python",
   "name": "python3"
  },
  "language_info": {
   "codemirror_mode": {
    "name": "ipython",
    "version": 3
   },
   "file_extension": ".py",
   "mimetype": "text/x-python",
   "name": "python",
   "nbconvert_exporter": "python",
   "pygments_lexer": "ipython3",
   "version": "3.6.3"
  }
 },
 "nbformat": 4,
 "nbformat_minor": 2
}
