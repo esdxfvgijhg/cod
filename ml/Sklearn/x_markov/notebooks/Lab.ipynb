{
 "cells": [
  {
   "cell_type": "markdown",
   "metadata": {},
   "source": [
    "# Hidden Markov Models for Internet Measurements Analysis\n",
    "\n",
    "**RESCOM 2019 • [Sandrine Vaton](http://perso.telecom-bretagne.eu/sandrinevaton/) (IMT Atlantique)**  \n",
    "**Modèles de chaînes de Markov cachées pour l’analyse de traces sur Internet**  \n",
    "\n",
    "In this interactive notebook we will compare different statistical models for RTT (round-trip time) time series observed on the Internet.  \n",
    "We will highlight the limitations of classical parametric models, and show that nonparametric Bayesian approaches allow to obtain a segmentation close to what a human expert would achieve.\n",
    "\n",
    "We will use RTT time series from the [RIPE Atlas](https://atlas.ripe.net/) Internet measurement infrastructure.  \n",
    "We will use the [scikit-learn](https://scikit-learn.org/stable/) library for mixture models, [hmmlearn](https://hmmlearn.readthedocs.io/en/latest/) for parametric HMMs, and the [Atlas Trends API](https://labs.ripe.net/Members/maxime_mouchet/api-for-summarising-events-in-ripe-atlas-rtt-time-series) for nonparametric HMMs.\n",
    "\n",
    "#### Contents\n",
    "\n",
    "1. [Introduction](#Introduction)\n",
    "2. [Parametric Models](#Parametric-Models)  \n",
    "    2.1 [Mixture Model](#Mixture-Model)  \n",
    "    2.2 [Hidden Markov Model](#Hidden-Markov-Model)\n",
    "3. [Nonparametric Models](#Nonparametric-Models)  \n",
    "    3.1 [Dirichlet Process Mixture Model](#Dirichlet-Process-Mixture-Model)  \n",
    "    3.2 [Hierarchical Dirichlet Process Hidden Markov Model](#Hierarchical-Dirichlet-Process-Hidden-Markov-Model)"
   ]
  },
  {
   "cell_type": "code",
   "execution_count": null,
   "metadata": {},
   "outputs": [],
   "source": [
    "try:\n",
    "    import google.colab, sys\n",
    "    !git clone https://github.com/RESCOM19-HMM/Lab.git\n",
    "    !pip install hmmlearn\n",
    "    sys.path.append('Lab')\n",
    "except:\n",
    "    import sys; sys.path.append('..')"
   ]
  },
  {
   "cell_type": "code",
   "execution_count": null,
   "metadata": {},
   "outputs": [],
   "source": [
    "import pandas as pd\n",
    "from tqdm.auto import tqdm"
   ]
  },
  {
   "cell_type": "markdown",
   "metadata": {},
   "source": [
    "In order to keep things simple in the notebook, the code for statistical inference and plotting is wrapped in the\n",
    "[trends](https://github.com/RESCOM19-HMM/Lab/blob/master/trends) and [utils](https://github.com/RESCOM19-HMM/Lab/blob/master/utils) modules."
   ]
  },
  {
   "cell_type": "code",
   "execution_count": null,
   "metadata": {},
   "outputs": [],
   "source": [
    "from trends import *\n",
    "from utils import *"
   ]
  },
  {
   "cell_type": "code",
   "execution_count": null,
   "metadata": {},
   "outputs": [],
   "source": [
    "%matplotlib inline\n",
    "%config InlineBackend.figure_format = 'retina'\n",
    "sns.set_style('whitegrid')"
   ]
  },
  {
   "cell_type": "markdown",
   "metadata": {},
   "source": [
    "## Introduction\n",
    "_([Contents](#Contents))_"
   ]
  },
  {
   "cell_type": "markdown",
   "metadata": {},
   "source": [
    "In RIPE Atlas, a measurement (ping, traceroute, ...) is performed by one or more probes towards a single destination.  \n",
    "A destination can be any device reachable on the Internet (another probe, a server, a router, ...).  \n",
    "An origin-destination pair is defined by the couple (measurement ID, probe ID).  \n",
    "In this notebook we will consider measurement between anchors, which are probes with more computational resources."
   ]
  },
  {
   "cell_type": "code",
   "execution_count": null,
   "metadata": {},
   "outputs": [],
   "source": [
    "client = AtlasTrendsClient(verbose=True)"
   ]
  },
  {
   "cell_type": "code",
   "execution_count": null,
   "metadata": {},
   "outputs": [],
   "source": [
    "# Measurement: Ping IPv4 for anchor at-vie-as1120.anchors.atlas.ripe.net\n",
    "# Probe: us-bos-as26167.anchors.atlas.ripe.net \n",
    "at_vie_us_bos = dict(\n",
    "    msm_id   = 1437285,                   # Atlas measurement ID\n",
    "    prb_id   = 6222,                      # Atlas probe ID\n",
    "    start_dt = utc_datetime(2018, 5, 2),  # (Optional) Default: stop date - 7 days\n",
    "    stop_dt  = utc_datetime(2018, 5, 10), # (Optional) Default: the current date\n",
    ")\n",
    "\n",
    "# Measurement: Ping IPv4 for anchor at-vie-as1120.anchors.atlas.ripe.net\n",
    "# Probe: us-chi-as2914.anchors.atlas.ripe.net\n",
    "at_vie_us_chi = dict(\n",
    "    msm_id   = 1437285,\n",
    "    prb_id   = 6343, \n",
    "    start_dt = utc_datetime(2018, 5, 2),\n",
    "    stop_dt  = utc_datetime(2018, 5, 10),\n",
    ")\n",
    "\n",
    "# Change this line to choose an origin-destination pair\n",
    "query = at_vie_us_bos"
   ]
  },
  {
   "cell_type": "code",
   "execution_count": null,
   "metadata": {},
   "outputs": [],
   "source": [
    "# Fetch the RTT time series from the RIPE Atlas API\n",
    "df = client.fetch_ticks(**query, as_df=True) # `as_df` returns a Pandas DataFrame instead of a JSON object"
   ]
  },
  {
   "cell_type": "code",
   "execution_count": null,
   "metadata": {},
   "outputs": [],
   "source": [
    "plt.figure(figsize=(16,2.5))\n",
    "plot_rtt(df)"
   ]
  },
  {
   "cell_type": "code",
   "execution_count": null,
   "metadata": {},
   "outputs": [],
   "source": [
    "# Scikit-learn does not handle missing values;\n",
    "# they are however supported by the Atlas Trends API.\n",
    "X = df.rtt.fillna(method='ffill')[:,np.newaxis]"
   ]
  },
  {
   "cell_type": "markdown",
   "metadata": {},
   "source": [
    "## Parametric Models\n",
    "_([Contents](#Contents))_"
   ]
  },
  {
   "cell_type": "markdown",
   "metadata": {},
   "source": [
    "Model                                              | Number of states | Time dependency\n",
    ":--------------------------------------------------|:-----------------|:--------------\n",
    "Mixture Model                                      | Fixed            | No\n",
    "Hidden Markov Model                                | Fixed            | Yes\n",
    "Dirichlet Process Mixture Model                    | $\\infty$         | No\n",
    "Hierarchical Dirichlet Process Hidden Markov Model | $\\infty$         | Yes"
   ]
  },
  {
   "cell_type": "markdown",
   "metadata": {},
   "source": [
    "Inference is performed using the EM algorithm. Initialized with a k-means."
   ]
  },
  {
   "cell_type": "code",
   "execution_count": null,
   "metadata": {},
   "outputs": [],
   "source": [
    "from utils.models import GaussianMixture, GaussianHMM"
   ]
  },
  {
   "cell_type": "markdown",
   "metadata": {},
   "source": [
    "### Mixture Model"
   ]
  },
  {
   "cell_type": "code",
   "execution_count": null,
   "metadata": {},
   "outputs": [],
   "source": [
    "model = GaussianMixture.from_samples(X, n_components=10)\n",
    "print('EM stopped after {} iterations'.format(model.n_iter_))\n",
    "print('Final log-likelihood = {}'.format(model.log_likelihood(X)))"
   ]
  },
  {
   "cell_type": "code",
   "execution_count": null,
   "metadata": {},
   "outputs": [],
   "source": [
    "plt.figure(figsize=(16,2.5))\n",
    "plot_rtt(df)\n",
    "plot_sequence(df.rtt.index, model.predict(X))"
   ]
  },
  {
   "cell_type": "code",
   "execution_count": null,
   "metadata": {},
   "outputs": [],
   "source": [
    "fit_interactive(df, GaussianMixture)"
   ]
  },
  {
   "cell_type": "markdown",
   "metadata": {},
   "source": [
    "#### Choice of the number of components"
   ]
  },
  {
   "cell_type": "markdown",
   "metadata": {},
   "source": [
    "https://en.wikipedia.org/wiki/Bayesian_information_criterion"
   ]
  },
  {
   "cell_type": "code",
   "execution_count": null,
   "metadata": {},
   "outputs": [],
   "source": [
    "def fit_penalized(X, model_class, n_components):\n",
    "    stats, models = [], []\n",
    "    for k in tqdm(n_components):\n",
    "        model = model_class.from_samples(X, k)\n",
    "        models.append(model)\n",
    "        stats.append({\n",
    "            'aic': model.aic(X),\n",
    "            'bic': model.bic(X),\n",
    "            'log_likelihood': model.log_likelihood(X)\n",
    "        })\n",
    "    stats = pd.DataFrame.from_records(stats, index=n_components)\n",
    "    best = stats.bic.values.argmin()\n",
    "    return n_components[best], models[best], stats"
   ]
  },
  {
   "cell_type": "code",
   "execution_count": null,
   "metadata": {},
   "outputs": [],
   "source": [
    "n_components = range(2,20)\n",
    "best_n, best_model, stats = fit_penalized(X, GaussianMixture, n_components)\n",
    "print('Best number of components = {}'.format(best_n))"
   ]
  },
  {
   "cell_type": "code",
   "execution_count": null,
   "metadata": {},
   "outputs": [],
   "source": [
    "plot_penalized_likelihood(stats)"
   ]
  },
  {
   "cell_type": "code",
   "execution_count": null,
   "metadata": {},
   "outputs": [],
   "source": [
    "plt.figure(figsize=(16,2.5))\n",
    "plot_rtt(df)\n",
    "plot_sequence(df.rtt.index, best_model.predict(X))"
   ]
  },
  {
   "cell_type": "markdown",
   "metadata": {},
   "source": [
    "### Hidden Markov Model"
   ]
  },
  {
   "cell_type": "code",
   "execution_count": null,
   "metadata": {},
   "outputs": [],
   "source": [
    "fit_interactive(df, GaussianHMM)"
   ]
  },
  {
   "cell_type": "markdown",
   "metadata": {},
   "source": [
    "#### Choice of the number of components"
   ]
  },
  {
   "cell_type": "code",
   "execution_count": null,
   "metadata": {},
   "outputs": [],
   "source": [
    "n_components = range(2, 10)\n",
    "best_n, best_model, stats = fit_penalized(X, GaussianHMM, n_components)\n",
    "print('Best number of components = {}'.format(best_n))"
   ]
  },
  {
   "cell_type": "code",
   "execution_count": null,
   "metadata": {},
   "outputs": [],
   "source": [
    "plot_penalized_likelihood(stats)"
   ]
  },
  {
   "cell_type": "code",
   "execution_count": null,
   "metadata": {},
   "outputs": [],
   "source": [
    "plt.figure(figsize=(16,2.5))\n",
    "plot_rtt(df)\n",
    "plot_sequence(df.rtt.index, best_model.predict(X))"
   ]
  },
  {
   "cell_type": "markdown",
   "metadata": {},
   "source": [
    "## Nonparametric Models\n",
    "_([Contents](#Contents))_"
   ]
  },
  {
   "cell_type": "code",
   "execution_count": null,
   "metadata": {},
   "outputs": [],
   "source": [
    "from utils.models import BayesianGaussianMixture"
   ]
  },
  {
   "cell_type": "markdown",
   "metadata": {},
   "source": [
    "### Dirichlet Process Mixture Model"
   ]
  },
  {
   "cell_type": "code",
   "execution_count": null,
   "metadata": {},
   "outputs": [],
   "source": [
    "model = BayesianGaussianMixture.from_samples(X, 10)"
   ]
  },
  {
   "cell_type": "code",
   "execution_count": null,
   "metadata": {},
   "outputs": [],
   "source": [
    "print('Inference stopped after {} iterations'.format(model.n_iter_))\n",
    "print('Number of states inferred = {}'.format(model.n_states(X)))\n",
    "print('Final log-likelihood = {}'.format(model.log_likelihood(X)))"
   ]
  },
  {
   "cell_type": "code",
   "execution_count": null,
   "metadata": {},
   "outputs": [],
   "source": [
    "plt.figure(figsize=(16,2.5))\n",
    "plot_rtt(df)\n",
    "plot_sequence(df.rtt.index, model.predict(X))"
   ]
  },
  {
   "cell_type": "markdown",
   "metadata": {},
   "source": [
    "### Hierarchical Dirichlet Process Hidden Markov Model"
   ]
  },
  {
   "cell_type": "code",
   "execution_count": null,
   "metadata": {},
   "outputs": [],
   "source": [
    "df = client.fetch_trends(**query, as_df=True)"
   ]
  },
  {
   "cell_type": "code",
   "execution_count": null,
   "metadata": {},
   "outputs": [],
   "source": [
    "plt.figure(figsize=(16,2.5))\n",
    "plot_trends(df)"
   ]
  },
  {
   "cell_type": "code",
   "execution_count": null,
   "metadata": {},
   "outputs": [],
   "source": [
    "states = sorted(df.state.unique())\n",
    "_, axes = plt.subplots(nrows=2, ncols=int(len(states)/2), gridspec_kw={'hspace': 0.5}, figsize=(16,5))\n",
    "for ax, state in zip(axes.ravel(), states):    \n",
    "    plot_kde(df, ax=ax, states=[state])"
   ]
  },
  {
   "cell_type": "code",
   "execution_count": null,
   "metadata": {},
   "outputs": [],
   "source": []
  }
 ],
 "metadata": {
  "kernelspec": {
   "display_name": "Python 3",
   "language": "python",
   "name": "python3"
  },
  "language_info": {
   "codemirror_mode": {
    "name": "ipython",
    "version": 3
   },
   "file_extension": ".py",
   "mimetype": "text/x-python",
   "name": "python",
   "nbconvert_exporter": "python",
   "pygments_lexer": "ipython3",
   "version": "3.7.1"
  }
 },
 "nbformat": 4,
 "nbformat_minor": 4
}
