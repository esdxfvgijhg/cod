{
 "cells": [
  {
   "cell_type": "code",
   "execution_count": 3,
   "metadata": {},
   "outputs": [],
   "source": [
    "import os \n"
   ]
  },
  {
   "cell_type": "code",
   "execution_count": 7,
   "metadata": {},
   "outputs": [],
   "source": [
    "os.mkdir('tempdir')"
   ]
  },
  {
   "cell_type": "code",
   "execution_count": 8,
   "metadata": {},
   "outputs": [
    {
     "name": "stdout",
     "output_type": "stream",
     "text": [
      "Directory  tempDir  already exists\n"
     ]
    }
   ],
   "source": [
    "dirName = 'tempDir'\n",
    " \n",
    "try:\n",
    "    # Create target Directory\n",
    "    os.mkdir(dirName)\n",
    "    print(\"Directory \" , dirName ,  \" Created \") \n",
    "except FileExistsError:\n",
    "    print(\"Directory \" , dirName ,  \" already exists\")"
   ]
  },
  {
   "cell_type": "code",
   "execution_count": 13,
   "metadata": {},
   "outputs": [],
   "source": [
    "import gzip \n",
    "dir_in = open('C:/Users/carlyna.bondiombouy/Desktop/Cotonou/test_nifi.zip')\n",
    "dir_out = gzip.open('C:/Users/carlyna.bondiombouy/Desktop/Cotonou/test_nifi.gz', 'wb')\n",
    "#f_out.writelines(f_in)\n",
    "dir_out.close()\n",
    "dir_in.close()"
   ]
  },
  {
   "cell_type": "code",
   "execution_count": 21,
   "metadata": {},
   "outputs": [
    {
     "data": {
      "text/plain": [
       "'C:/Users/carlyna.bondiombouy/Desktop/Cotonou/test_nifi'"
      ]
     },
     "execution_count": 21,
     "metadata": {},
     "output_type": "execute_result"
    }
   ],
   "source": [
    "from shutil import make_archive\n",
    "import os\n",
    "archive_name = os.path.expanduser(os.path.join('~', 'myarchive'))\n",
    "root_dir = os.path.expanduser(os.path.join('~', 'C:/Users/carlyna.bondiombouy/Desktop/Cotonou/test_nifi'))\n",
    "#make_archive(archive_name, 'gztar', root_dir)\n",
    "make_archive(archive_name, 'gztar')\n",
    "'C:/Users/carlyna.bondiombouy/Desktop/Cotonou/test_nifi'"
   ]
  },
  {
   "cell_type": "code",
   "execution_count": null,
   "metadata": {},
   "outputs": [],
   "source": []
  }
 ],
 "metadata": {
  "kernelspec": {
   "display_name": "Python 3",
   "language": "python",
   "name": "python3"
  },
  "language_info": {
   "codemirror_mode": {
    "name": "ipython",
    "version": 3
   },
   "file_extension": ".py",
   "mimetype": "text/x-python",
   "name": "python",
   "nbconvert_exporter": "python",
   "pygments_lexer": "ipython3",
   "version": "3.7.0"
  }
 },
 "nbformat": 4,
 "nbformat_minor": 2
}
