{
 "cells": [
  {
   "cell_type": "markdown",
   "metadata": {},
   "source": [
    "# PRACTICAL WORK \n",
    "********************\n",
    "********************\n",
    "********************\n",
    "Proposed by \n",
    "\n",
    "__PATRICK VALDURIEZ & CARLYNA BONDIOMBOUY__\n",
    "\n",
    "IMSP-INRIA\n",
    "********************\n",
    "********************\n",
    "********************\n",
    "\n",
    "\n",
    "## Exercise 1 (Food Center dataset)\n",
    "\n",
    "### Create dataframes\n",
    "\n",
    "Spark DataFrame provides a domain-specific language for structured data manipulation. This language includes methods we can concatenate in order to do selection, filtering, grouping, etc"
   ]
  },
  {
   "cell_type": "code",
   "execution_count": null,
   "metadata": {},
   "outputs": [],
   "source": [
    "# import pyspark class Row from module sql\n",
    "from pyspark.sql import *\n",
    "\n",
    "# Create  FoodCenters - Departments and Employees\n",
    "\n",
    "# Create the FoodCenters\n",
    "\n",
    "foodcenter1 = Row(id='0000', name='Sunny Gas Meat', location='No. 24, Oba Market Road, B/C.')\n",
    "foodcenter2 = Row(id='0001', name='Mrs. Ozede Meat Shop', location='No. 12, Ekp;enede Street, B/C.')\n",
    "foodcenter3 = Row(id='0002', name='Mrs Ebbuzugbe Ice-Cream Shop', location='No. 10 Old Uguanogbe Street, B/C.')\n",
    "foodcenter4 = Row(id='0003', name='C. O. Meat Shop', location='No. 22, O ba Market Road, B/C.')\n",
    "foodcenter5 = Row(id='0004', name='Mrs. Omorodion', location='No. 22, O ba Market Road, B/C.')\n",
    "foodcenter6 = Row(id='0005', name='B. B. Meat Shop', location='No. 5, Oba M arket Roiad, B/C.')\n",
    "foodcenter7 = Row(id='0006', name='Destiny Meat Shop', location='No. 24, Oba Market Road, B/C.')\n",
    "foodcenter8 = Row(id='0007', name='Sunday Meat Shoip', location='No. 11, Oba Market Road, B/C.')\n",
    "foodcenter9 = Row(id='0008', name='Mrs Omoregie Meat Shop', location='No. 18C, Oba Market Road, B/C.')\n",
    "foodcenter10 = Row(id='0009', name='F. O. Meat Shop', location='No. 18C, Oba Market Road, B/C.')\n",
    "foodcenter11 = Row(id='0010', name='Pat O. Meat Shop', location='Oba Market Road, B/C.')\n",
    "foodcenter12 = Row(id='0011', name='Mrs Adeban jo Meat Shop', location='No. 22, O ba Market Road, B/C.')\n",
    "\n",
    "# Create the Employees\n",
    "Employee = Row(\"firstName\", \"lastName\", \"email\", \"salary\")\n",
    "employee1 = Employee('Ogbe', 'Oronsaye', 'no-reply@sunny.org', 100000)\n",
    "employee2 = Employee('Uyiosa', 'Idehen', 'no-reply@shop.fr', 120000)\n",
    "employee3 = Employee('Igbinosa', 'Bello', 'no-reply@jo.edu', 140000)\n",
    "employee4 = Employee('Abeni', 'Davies', 'no-reply@gas.com', 160000)\n",
    "employee5 = Employee('Oriafo', 'Wendell', 'no-reply@porto.fr', 200000)\n",
    "employee6 = Employee('Osigbemhe', 'Koutchanou', 'no-reply@nigeria.org', 180000)\n",
    "employee7 = Employee('Bello', 'Ogbeide', 'no-reply@baker.com', 100000)\n",
    "employee8 = Employee('Adizie', 'Solomon', 'no-reply@abejan.com', 170000)\n",
    "employee9 = Employee('Adolor', 'Aiwerioba', 'no-reply@cmr.org', 150000)\n",
    "employee10 = Employee('Ambrose', 'Anegbette', 'no-reply@tofa.com', 170000)\n",
    "employee11 = Employee('Dagbala', 'Ebelle', 'no-reply@ghana.org', 130000)\n",
    "employee12 = Employee('Oriafo', 'Edokpolo', 'no-reply@cameroon.org', 150000)\n",
    "\n",
    "# Create the FoodcentersWithEmployees instances from foodcenters and employees\n",
    "foodcenterWithEmployees1 = Row(foodcenter=foodcenter1, employees=[employee1, employee2])\n",
    "foodcenterWithEmployees2 = Row(foodcenter=foodcenter2, employees=[employee3, employee4])\n",
    "foodcentertWithEmployees3 = Row(foodcenter=foodcenter3, employees=[employee1, employee4])\n",
    "foodcenterWithEmployees4 = Row(foodcenter=foodcenter4, employees=[employee2, employee3])\n",
    "foodcenterWithEmployees5 = Row(foodcenter=foodcenter5, employees=[employee5, employee6])\n",
    "foodcenterWithEmployees6 = Row(foodcenter=foodcenter6, employees=[employee7, employee8])\n",
    "foodcenterWithEmployees7 = Row(foodcenter=foodcenter7, employees=[employee9, employee10])\n",
    "foodcenterWithEmployees8 = Row(foodcenter=foodcenter8, employees=[employee11, employee3])\n",
    "foodcenterWithEmployees9 = Row(foodcenter=foodcenter9, employees=[employee12, employee6])\n",
    "foodcenterWithEmployees10 = Row(foodcenter=foodcenter10, employees=[employee10, employee11])\n",
    "foodcenterWithEmployees11 = Row(foodcenter=foodcenter11, employees=[employee9, employee12])\n",
    "foodcenterWithEmployees12 = Row(foodcenter=foodcenter11, employees=[employee7, employee10])\n",
    "\n",
    "print (foodcenterWithEmployees12)\n",
    "print(\"       \")\n",
    "print (foodcenter10)\n",
    "print(\"       \")\n",
    "print (employee1)\n",
    "print(\"       \")\n",
    "print (foodcenterWithEmployees1.employees[0].email)\n"
   ]
  },
  {
   "cell_type": "code",
   "execution_count": null,
   "metadata": {},
   "outputs": [],
   "source": [
    "foodcenterWithEmployees_Seq = [foodcenterWithEmployees1, foodcenterWithEmployees2]\n",
    "dframe = spark.createDataFrame(foodcenterWithEmployees_Seq)\n",
    "display(dframe)\n",
    "#dframe.show()"
   ]
  },
  {
   "cell_type": "code",
   "execution_count": 55,
   "metadata": {},
   "outputs": [
    {
     "data": {
      "text/plain": [
       "DataFrame[NAME : string, LOCATION: string]"
      ]
     },
     "metadata": {},
     "output_type": "display_data"
    },
    {
     "name": "stdout",
     "output_type": "stream",
     "text": [
      "+--------------------+--------------------+\n",
      "|               NAME |            LOCATION|\n",
      "+--------------------+--------------------+\n",
      "|        Lisbor Hotel|No. 4, Sokponba R...|\n",
      "|    Matice Fast Food|No. 12, Sokponba ...|\n",
      "|       Vesa Sea Food|100A, Off Sokponb...|\n",
      "|     Debbies Kitchen|No. 61, Sokponba,...|\n",
      "|           Mrs. Owen|No. 73B, 2nd East...|\n",
      "| Mama Rita Cold Room|Sokponba by 2nd E...|\n",
      "|Mrs. UY Fried and...|Evbarune , Gbefo ...|\n",
      "| Eddyibanga Int. Ltd|                null|\n",
      "|Farmers Shopping ...|No. 78, Sokponba ...|\n",
      "|The Phimas Garden...|No. 3, Obazuina S...|\n",
      "|   Usama Ivory Hotel|No. 169, 1st East...|\n",
      "|Two Sisters  Cold...|No. 105, Sokponba...|\n",
      "|Mama Enoghayin Co...|No. 105, Sokponba...|\n",
      "|Clement Uyiekpen ...|No. 73B, 2nd East...|\n",
      "|      Rito Cold Room|No. 105, Sokponba...|\n",
      "|     Efifa Cold Room|No. 105, Sokponba...|\n",
      "| Christy Guest House|No. 106, Sokponba...|\n",
      "| Sunday M. Meat Shop|No. 11, Oba Marke...|\n",
      "|     G.T.I Meat Shop|No. 25 & 26, Oba ...|\n",
      "| Judgement MeAT Shop|No. 11, Oba Marke...|\n",
      "+--------------------+--------------------+\n",
      "only showing top 20 rows\n",
      "\n"
     ]
    }
   ],
   "source": [
    "from pyspark import  SparkContext\n",
    "from pyspark.sql import *\n",
    "sc = SparkContext.getOrCreate()\n",
    "\n",
    "food_df = spark.read.csv(\"C://Users/carlyna.bondiombouy/Desktop/Benin/foodcenter.csv\", inferSchema = True, header = True)\n",
    "display(food_df)\n",
    "food_df.show()"
   ]
  },
  {
   "cell_type": "markdown",
   "metadata": {},
   "source": [
    "### Schema of DataFrame\n",
    "\n",
    "The printSchema method enables to have a look at the schema, i.e. the structure of the DataFrame."
   ]
  },
  {
   "cell_type": "code",
   "execution_count": 53,
   "metadata": {},
   "outputs": [
    {
     "name": "stdout",
     "output_type": "stream",
     "text": [
      "root\n",
      " |-- _c0: string (nullable = true)\n",
      "\n"
     ]
    }
   ],
   "source": [
    "food_df.printSchema()"
   ]
  },
  {
   "cell_type": "markdown",
   "metadata": {},
   "source": [
    "### Rows and columns description\n",
    "\n",
    "We want to have a look at the names and a count of the number of rows and columns of a particular DataFrame:"
   ]
  },
  {
   "cell_type": "code",
   "execution_count": 54,
   "metadata": {},
   "outputs": [
    {
     "data": {
      "text/plain": [
       "1"
      ]
     },
     "execution_count": 54,
     "metadata": {},
     "output_type": "execute_result"
    }
   ],
   "source": [
    "\n",
    "food_df.columns #Column Names\n",
    "\n",
    "len(food_df.columns) #Column Count"
   ]
  },
  {
   "cell_type": "code",
   "execution_count": 19,
   "metadata": {},
   "outputs": [
    {
     "data": {
      "text/plain": [
       "637"
      ]
     },
     "execution_count": 19,
     "metadata": {},
     "output_type": "execute_result"
    }
   ],
   "source": [
    "food_df.count() #Row Count"
   ]
  },
  {
   "cell_type": "code",
   "execution_count": 20,
   "metadata": {},
   "outputs": [
    {
     "data": {
      "text/plain": [
       "['NAME ', 'LOCATION']"
      ]
     },
     "execution_count": 20,
     "metadata": {},
     "output_type": "execute_result"
    }
   ],
   "source": [
    "food_df.columns #Column Names"
   ]
  },
  {
   "cell_type": "code",
   "execution_count": 37,
   "metadata": {},
   "outputs": [
    {
     "name": "stdout",
     "output_type": "stream",
     "text": [
      "+-------+-------------+--------------------+\n",
      "|summary|        NAME |            LOCATION|\n",
      "+-------+-------------+--------------------+\n",
      "|  count|          637|                 620|\n",
      "|   mean|         null|                null|\n",
      "| stddev|         null|                null|\n",
      "|    min|  Food Outlet| 2, Ogbelaka Stre...|\n",
      "|    max|western Hotel|km 8, Benin Sapel...|\n",
      "+-------+-------------+--------------------+\n",
      "\n"
     ]
    }
   ],
   "source": [
    "food_df.describe().show()"
   ]
  },
  {
   "cell_type": "code",
   "execution_count": 42,
   "metadata": {},
   "outputs": [
    {
     "name": "stdout",
     "output_type": "stream",
     "text": [
      "+-------+--------------------+\n",
      "|summary|            LOCATION|\n",
      "+-------+--------------------+\n",
      "|  count|                 620|\n",
      "|   mean|                null|\n",
      "| stddev|                null|\n",
      "|    min| 2, Ogbelaka Stre...|\n",
      "|    max|km 8, Benin Sapel...|\n",
      "+-------+--------------------+\n",
      "\n"
     ]
    }
   ],
   "source": [
    "food_df.describe('LOCATION').show()"
   ]
  },
  {
   "cell_type": "markdown",
   "metadata": {},
   "source": [
    "### Select clause"
   ]
  },
  {
   "cell_type": "code",
   "execution_count": 47,
   "metadata": {},
   "outputs": [
    {
     "name": "stdout",
     "output_type": "stream",
     "text": [
      "+--------------------+\n",
      "|            LOCATION|\n",
      "+--------------------+\n",
      "|No. 4, Sokponba R...|\n",
      "|No. 12, Sokponba ...|\n",
      "|100A, Off Sokponb...|\n",
      "|No. 61, Sokponba,...|\n",
      "|No. 73B, 2nd East...|\n",
      "|Sokponba by 2nd E...|\n",
      "|Evbarune , Gbefo ...|\n",
      "|                null|\n",
      "|No. 78, Sokponba ...|\n",
      "|No. 3, Obazuina S...|\n",
      "|No. 169, 1st East...|\n",
      "|No. 105, Sokponba...|\n",
      "|No. 105, Sokponba...|\n",
      "|No. 73B, 2nd East...|\n",
      "|No. 105, Sokponba...|\n",
      "|No. 105, Sokponba...|\n",
      "|No. 106, Sokponba...|\n",
      "|No. 11, Oba Marke...|\n",
      "|No. 25 & 26, Oba ...|\n",
      "|No. 11, Oba Marke...|\n",
      "+--------------------+\n",
      "only showing top 20 rows\n",
      "\n"
     ]
    }
   ],
   "source": [
    "food_df.select('LOCATION').show()"
   ]
  },
  {
   "cell_type": "code",
   "execution_count": 50,
   "metadata": {},
   "outputs": [
    {
     "name": "stdout",
     "output_type": "stream",
     "text": [
      "+--------------------+\n",
      "|            LOCATION|\n",
      "+--------------------+\n",
      "|Sapele Road, Beni...|\n",
      "|Mela motel Road, B/c|\n",
      "|51, Arenzen Str. ...|\n",
      "|8, Edokpolor Fact...|\n",
      "|No. 74, Ihama Rd,...|\n",
      "|No. 107, St. Savi...|\n",
      "|No. 31, Dumez Roa...|\n",
      "|No. 1,  Yoruba st...|\n",
      "|70, Airport Road,...|\n",
      "|37, Costain Road ...|\n",
      "|124, Upper Sakpon...|\n",
      "|11b, Ikpokpan Ave...|\n",
      "|No. 167B, Uselu- ...|\n",
      "|  Downson Rd, B/City|\n",
      "|9, Owoseni Street...|\n",
      "|No. 205, upper si...|\n",
      "|75, Benin-Auchi R...|\n",
      "|50, T.V Road,  Be...|\n",
      "|No. 6, 1st ofumwe...|\n",
      "|No 110, Sakpomba ...|\n",
      "+--------------------+\n",
      "only showing top 20 rows\n",
      "\n"
     ]
    }
   ],
   "source": [
    "food_df.select('LOCATION').distinct().show()"
   ]
  },
  {
   "cell_type": "markdown",
   "metadata": {},
   "source": [
    "### Filter the dataframe\n",
    "\n",
    "filters the DataFrame based on the condition that LOCATION must be equal to 'No. 24, Oba Market Road, B/C.' and calculates how many records/rows are there in the filtered output."
   ]
  },
  {
   "cell_type": "code",
   "execution_count": 60,
   "metadata": {},
   "outputs": [
    {
     "name": "stdout",
     "output_type": "stream",
     "text": [
      "+------------------+--------------------+\n",
      "|             NAME |            LOCATION|\n",
      "+------------------+--------------------+\n",
      "|   Omeka Meat Shop|No. 24, Oba Marke...|\n",
      "|    Uzee Meat Shop|No. 24, Oba Marke...|\n",
      "|      Godfrey Meat|No. 24, Oba Marke...|\n",
      "|    Sunny Gas Meat|No. 24, Oba Marke...|\n",
      "| Destiny Meat Shop|No. 24, Oba Marke...|\n",
      "|Mr. Tofa Meat Shop|No. 24, Oba Marke...|\n",
      "|       OTF NI Meat|No. 24, Oba Marke...|\n",
      "+------------------+--------------------+\n",
      "\n"
     ]
    },
    {
     "data": {
      "text/plain": [
       "7"
      ]
     },
     "execution_count": 60,
     "metadata": {},
     "output_type": "execute_result"
    }
   ],
   "source": [
    "food_df.filter(food_df.LOCATION=='No. 24, Oba Market Road, B/C.').show()\n",
    "food_df.filter(food_df.LOCATION=='No. 24, Oba Market Road, B/C.').count()  #enables to get the count"
   ]
  },
  {
   "cell_type": "code",
   "execution_count": 62,
   "metadata": {},
   "outputs": [
    {
     "name": "stdout",
     "output_type": "stream",
     "text": [
      "+------------+--------------------+\n",
      "|       NAME |            LOCATION|\n",
      "+------------+--------------------+\n",
      "|Lisbor Hotel|No. 4, Sokponba R...|\n",
      "+------------+--------------------+\n",
      "\n"
     ]
    }
   ],
   "source": [
    "food_df.filter((food_df.LOCATION==\"No. 4, Sokponba Road, B/C.\")).show()"
   ]
  },
  {
   "cell_type": "markdown",
   "metadata": {},
   "source": [
    "### Sorting data"
   ]
  },
  {
   "cell_type": "code",
   "execution_count": 63,
   "metadata": {},
   "outputs": [
    {
     "name": "stdout",
     "output_type": "stream",
     "text": [
      "+--------------------+--------------------+\n",
      "|               NAME |            LOCATION|\n",
      "+--------------------+--------------------+\n",
      "| Eddyibanga Int. Ltd|                null|\n",
      "|   Iyayi Table Water|                null|\n",
      "|   Egede Food Centre|                null|\n",
      "|      Bright Kitchen|                null|\n",
      "|Honey Rainbow Bakery|                null|\n",
      "|       Wantan Garden|                null|\n",
      "|    Mana Table Water|                null|\n",
      "|Talk of the City ...|                null|\n",
      "| Blessed Edo Bakery |                null|\n",
      "|      Car Wash & Bar|                null|\n",
      "|        Aso Time Bar|                null|\n",
      "|     Chemijar Hotel |                null|\n",
      "|Florence Imolorhe...|                null|\n",
      "|  Elegance Hotel LTD|                null|\n",
      "|Theresa Restauran...|                null|\n",
      "|    2+2 Guest House |                null|\n",
      "|Morning Glory Bakery|                null|\n",
      "|     Ohallic NIG.LTD| 2, Ogbelaka Stre...|\n",
      "| MRS Owens Cold Room| 73, 2nd East Cir...|\n",
      "|  Odia Sea Fish Food| No. 35, Airport ...|\n",
      "+--------------------+--------------------+\n",
      "only showing top 20 rows\n",
      "\n"
     ]
    }
   ],
   "source": [
    "food_df.orderBy(food_df.LOCATION).show()"
   ]
  },
  {
   "cell_type": "markdown",
   "metadata": {},
   "source": [
    "### Exercise 2 (orphanage home dataset)\n",
    "\n",
    "Load the data in the same way as we did earlier."
   ]
  },
  {
   "cell_type": "code",
   "execution_count": 82,
   "metadata": {},
   "outputs": [
    {
     "data": {
      "text/plain": [
       "DataFrame[NAME : string, ORGANIZATION: string, PHONE NUMBER: string, DETAILED ADDRESS OF ORGANIZATION.: string, L: string, NO. OF MALE ORPHAN: string, NO. OF FEMALE ORPHAN: string, TOTAL NUMBER: string]"
      ]
     },
     "metadata": {},
     "output_type": "display_data"
    },
    {
     "name": "stdout",
     "output_type": "stream",
     "text": [
      "+--------------------+--------------------+------------+---------------------------------+---------------+------------------+--------------------+------------+\n",
      "|               NAME |        ORGANIZATION|PHONE NUMBER|DETAILED ADDRESS OF ORGANIZATION.|              L|NO. OF MALE ORPHAN|NO. OF FEMALE ORPHAN|TOTAL NUMBER|\n",
      "+--------------------+--------------------+------------+---------------------------------+---------------+------------------+--------------------+------------+\n",
      "|    Mrs. Esther Ogbe| Edo Orphanage Home.|  8060427189|             Usama Street, Ben...|          Oredo|                10|                  30|          40|\n",
      "|Princess Kate  Or...|Oronsaye Orphanag...|  8030779086|             81, Owina Street,...|          Oredo|                13|                  11|          24|\n",
      "|        Madam Uyiosa|Uyiosa Orphanage ...|  8037672769|             No. 2, Obayagbony...|    Ikpoba-Okha|                 6|                  15|          21|\n",
      "|          Sir Idehen|Corner-Stone of H...|  8057493900|             No. 9, Omorogbe S...|           Egor|                 5|                   9|          14|\n",
      "|Pastor & Mrs F.U....|Compassion Orphan...|  8166827290|             Assemblies Camp S...|          Oredo|                12|                  14|          26|\n",
      "|       Mrs. G. Bello|Amadin Orphanage ...|  8037934090|             123/140, Lagos St...|          Oredo|                20|                  22|          42|\n",
      "|         Madam Abeni|Abeni Orphanage H...|           -|             No. 40, Federal R...|          Oredo|                20|                  15|          35|\n",
      "|        Madam Davies|No. 2 , James Ogb...|  8102445746|             Street off Ogbemu...|    Ikpoba-Okha|                 2|                   8|          10|\n",
      "|          Dr. Oriafo|Good Luck Orphanage.|  8053143881|             Dr. Oriafo Medica...|Esan North East|                 0|                   1|           1|\n",
      "|       Dr. Osigbemhe|Good will Orphana...|  8053973990|             99, Igbe Road, Au...|    Etsako West|                 2|                   2|           4|\n",
      "|Evangelist  Edokh...|Christ Family Orp...|  8070575919|             Otoukwe Quarters,...|    Etsako East|                 5|                   8|          13|\n",
      "|     Mrs. D. Ogbeide|Omosefe Orphanage...|  8036108613|             No. 4, Bello Osag...|          Oredo|                 4|                   5|           9|\n",
      "|Rev. Fr. Denian A...|Holy Spirit (Mary...|  8076635886|             Egoro-Amede, Ekpoma.|      Esan west|                13|                  11|          24|\n",
      "|  Solomon Folorunsho|International Chr...|  8033441246|              No. 45, Umanmwen...|           Egor|                64|                 119|         183|\n",
      "|       Mrs. M. Abulu|Courage Orphanage...|  8052729401|             PHCN, Power line ...|      Esan West|                 2|                   3|           5|\n",
      "|     Sir & Lady Cole|Sir & Lady Cole O...|  8033600178|             T.V. Road, Benin ...|          Oredo|                 4|                  12|          16|\n",
      "|     Mrs. C.I. Edoka|God�s Love Orphan...|  8037751062|             Okugi  Village, O...|    Etsako East|                11|                   4|          15|\n",
      "|Rev. Fr. Adolphus...|Mary Immaculate C...|  8085477973|             Behind St. Michae...|    Ikpoba Okha|                 9|                  20|          29|\n",
      "|Rev. Fr. John Bos...|Catholic Chess Pr...|  8053000203|             No. 1, Ezehi Aven...|Esan North East|                33|                  32|          65|\n",
      "|Grace  Iyonawan O...|Grace  Iyonawan  ...|  8102445746|             Plot 200, Scotty ...|    Ikpoba Okha|                 2|                   1|           3|\n",
      "+--------------------+--------------------+------------+---------------------------------+---------------+------------------+--------------------+------------+\n",
      "only showing top 20 rows\n",
      "\n"
     ]
    }
   ],
   "source": [
    "from pyspark import  SparkContext\n",
    "from pyspark.sql import *\n",
    "sc = SparkContext.getOrCreate()\n",
    "\n",
    "home_df  = spark.read.csv(\"C://Users/carlyna.bondiombouy/Desktop/Benin/orphanagehome.csv\", inferSchema = True, header = True)\n",
    "display(home_df)\n",
    "home_df.show()\n"
   ]
  },
  {
   "cell_type": "markdown",
   "metadata": {},
   "source": [
    "### Filtering data"
   ]
  },
  {
   "cell_type": "code",
   "execution_count": 78,
   "metadata": {},
   "outputs": [
    {
     "data": {
      "text/plain": [
       "8"
      ]
     },
     "execution_count": 78,
     "metadata": {},
     "output_type": "execute_result"
    }
   ],
   "source": [
    "home_df.filter(home_df.L == 'Oredo').count() "
   ]
  },
  {
   "cell_type": "code",
   "execution_count": 83,
   "metadata": {},
   "outputs": [
    {
     "data": {
      "text/plain": [
       "1"
      ]
     },
     "execution_count": 83,
     "metadata": {},
     "output_type": "execute_result"
    }
   ],
   "source": [
    "home_df.filter(home_df.ORGANIZATION == 'Uyiosa Orphanage Home.').count()"
   ]
  },
  {
   "cell_type": "markdown",
   "metadata": {},
   "source": [
    "### Grouping the data"
   ]
  },
  {
   "cell_type": "code",
   "execution_count": 85,
   "metadata": {},
   "outputs": [
    {
     "name": "stdout",
     "output_type": "stream",
     "text": [
      "+---------------+-----+\n",
      "|              L|count|\n",
      "+---------------+-----+\n",
      "|          Oredo|    8|\n",
      "|    Etsako West|    2|\n",
      "|           Egor|    3|\n",
      "|     Owan  East|    1|\n",
      "|   Ikpoba �hill|    1|\n",
      "|    Etsako East|    2|\n",
      "|      Akoko-Edo|    1|\n",
      "|    Ikpoba-Okha|    2|\n",
      "|              -|    1|\n",
      "| Etsako Central|    1|\n",
      "|      Esan West|    1|\n",
      "|      Esan west|    1|\n",
      "|Esan North East|    2|\n",
      "|   Estasko East|    1|\n",
      "|    Ikpoba Okha|    2|\n",
      "+---------------+-----+\n",
      "\n"
     ]
    }
   ],
   "source": [
    "home_df = home_df.groupby(\"L\")\\\n",
    ".count()\\\n",
    ".show()"
   ]
  }
 ],
 "metadata": {
  "kernelspec": {
   "display_name": "Python 3",
   "language": "python",
   "name": "python3"
  },
  "language_info": {
   "codemirror_mode": {
    "name": "ipython",
    "version": 3
   },
   "file_extension": ".py",
   "mimetype": "text/x-python",
   "name": "python",
   "nbconvert_exporter": "python",
   "pygments_lexer": "ipython3",
   "version": "3.7.0"
  }
 },
 "nbformat": 4,
 "nbformat_minor": 2
}
